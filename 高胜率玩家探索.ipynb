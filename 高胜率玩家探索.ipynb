{
 "cells": [
  {
   "cell_type": "code",
   "execution_count": 1,
   "metadata": {
    "ExecuteTime": {
     "end_time": "2021-04-01T05:12:38.883256Z",
     "start_time": "2021-04-01T05:12:35.183336Z"
    }
   },
   "outputs": [],
   "source": [
    "import numpy as np\n",
    "import pandas as pd\n",
    "import os\n",
    "import re"
   ]
  },
  {
   "cell_type": "markdown",
   "metadata": {
    "ExecuteTime": {
     "end_time": "2021-04-01T03:50:41.253952Z",
     "start_time": "2021-04-01T03:50:41.239937Z"
    }
   },
   "source": [
    "# Load data\n",
    "* Monthly player betting infomation"
   ]
  },
  {
   "cell_type": "code",
   "execution_count": 2,
   "metadata": {
    "ExecuteTime": {
     "end_time": "2021-04-01T05:12:46.766069Z",
     "start_time": "2021-04-01T05:12:43.093201Z"
    }
   },
   "outputs": [
    {
     "name": "stderr",
     "output_type": "stream",
     "text": [
      "C:\\Users\\markchen\\Anaconda3\\lib\\site-packages\\IPython\\core\\interactiveshell.py:3146: DtypeWarning: Columns (17) have mixed types.Specify dtype option on import or set low_memory=False.\n",
      "  has_raised = await self.run_ast_nodes(code_ast.body, cell_name,\n"
     ]
    }
   ],
   "source": [
    "file_loc = 'C:/Users/markchen/Desktop/高胜率玩家分析/data/raw_data/'\n",
    "file_name = '玩家投注资料_2020_Q1.csv'\n",
    "raw_data = pd.read_csv(file_loc + file_name)"
   ]
  },
  {
   "cell_type": "markdown",
   "metadata": {},
   "source": [
    "# Preprocessing"
   ]
  },
  {
   "cell_type": "markdown",
   "metadata": {},
   "source": [
    "## Add game_type column\n",
    "* 新增游戏种类栏位"
   ]
  },
  {
   "cell_type": "code",
   "execution_count": 3,
   "metadata": {
    "ExecuteTime": {
     "end_time": "2021-04-01T05:12:54.459481Z",
     "start_time": "2021-04-01T05:12:51.955314Z"
    }
   },
   "outputs": [],
   "source": [
    "game_type = raw_data.TournamentName_En.apply(lambda x: re.findall(\"\\[(.*?)\\]\", x)).to_list()\n",
    "game_type_update = [None if len(_) == 0 else _[0] for _ in game_type]\n",
    "raw_data['Game_type'] = game_type_update\n",
    "raw_data['Game_type'] = raw_data['Game_type'].replace({'LoL': 'LOL', 'AOV':'AoV'})\n",
    "raw_data.fillna('Unknown', inplace = True)"
   ]
  },
  {
   "cell_type": "markdown",
   "metadata": {},
   "source": [
    "# Groupby player\n",
    "* 以玩家为单位，整合资讯"
   ]
  },
  {
   "cell_type": "code",
   "execution_count": 4,
   "metadata": {
    "ExecuteTime": {
     "end_time": "2021-04-01T05:13:09.315596Z",
     "start_time": "2021-04-01T05:13:05.002633Z"
    }
   },
   "outputs": [],
   "source": [
    "player_win_info = raw_data.groupby('MainAccountSN').agg(\n",
    "    玩家总投注额 = ('RealBetAmount_CNY', 'sum'),\n",
    "    玩家平均投注额 = ('RealBetAmount_CNY', 'mean'),\n",
    "    玩家总损益 = ('CustomerWinLoss_CNY', 'sum'),\n",
    "    玩家投注单量 = ('TransactionMGUID', 'count'),\n",
    "    玩家季度获胜数 = ('BetResult', lambda x: sum(x == 'Won')),\n",
    "    玩家季度胜率 = ('BetResult', lambda x: sum(x == 'Won') / len(x)),\n",
    "    # 赔率资讯\n",
    "    投注赔率平均 = ('InitailBetRate', 'mean'),\n",
    "    投注赔率中位数 = ('InitailBetRate', 'median'),\n",
    "    投注赔率标准差 = ('InitailBetRate', 'std'),\n",
    "    # 游戏资讯\n",
    "    投注游戏种类数 = ('Game_type', lambda x: x.nunique()),\n",
    "    # 比赛资讯\n",
    "    投注联赛数 = ('TournamentName_En', lambda x: x.nunique()),\n",
    "    投注比赛数 = ('EventCode', lambda x: x.nunique()),\n",
    ").reset_index()\n",
    "player_win_info.fillna(0, inplace = True)"
   ]
  },
  {
   "cell_type": "code",
   "execution_count": 5,
   "metadata": {
    "ExecuteTime": {
     "end_time": "2021-04-01T05:13:13.373474Z",
     "start_time": "2021-04-01T05:13:13.343485Z"
    },
    "scrolled": true
   },
   "outputs": [
    {
     "data": {
      "text/html": [
       "<div>\n",
       "<style scoped>\n",
       "    .dataframe tbody tr th:only-of-type {\n",
       "        vertical-align: middle;\n",
       "    }\n",
       "\n",
       "    .dataframe tbody tr th {\n",
       "        vertical-align: top;\n",
       "    }\n",
       "\n",
       "    .dataframe thead th {\n",
       "        text-align: right;\n",
       "    }\n",
       "</style>\n",
       "<table border=\"1\" class=\"dataframe\">\n",
       "  <thead>\n",
       "    <tr style=\"text-align: right;\">\n",
       "      <th></th>\n",
       "      <th>MainAccountSN</th>\n",
       "      <th>玩家总投注额</th>\n",
       "      <th>玩家平均投注额</th>\n",
       "      <th>玩家总损益</th>\n",
       "      <th>玩家投注单量</th>\n",
       "      <th>玩家季度获胜数</th>\n",
       "      <th>玩家季度胜率</th>\n",
       "      <th>投注赔率平均</th>\n",
       "      <th>投注赔率中位数</th>\n",
       "      <th>投注赔率标准差</th>\n",
       "      <th>投注游戏种类数</th>\n",
       "      <th>投注联赛数</th>\n",
       "      <th>投注比赛数</th>\n",
       "    </tr>\n",
       "  </thead>\n",
       "  <tbody>\n",
       "    <tr>\n",
       "      <th>0</th>\n",
       "      <td>13086</td>\n",
       "      <td>705.00</td>\n",
       "      <td>352.50</td>\n",
       "      <td>564.00</td>\n",
       "      <td>2</td>\n",
       "      <td>2</td>\n",
       "      <td>1.00</td>\n",
       "      <td>1.80</td>\n",
       "      <td>1.80</td>\n",
       "      <td>0.00</td>\n",
       "      <td>1</td>\n",
       "      <td>1</td>\n",
       "      <td>1</td>\n",
       "    </tr>\n",
       "    <tr>\n",
       "      <th>1</th>\n",
       "      <td>13124</td>\n",
       "      <td>2,594.00</td>\n",
       "      <td>235.82</td>\n",
       "      <td>-1,819.18</td>\n",
       "      <td>11</td>\n",
       "      <td>3</td>\n",
       "      <td>0.27</td>\n",
       "      <td>2.01</td>\n",
       "      <td>1.72</td>\n",
       "      <td>0.66</td>\n",
       "      <td>3</td>\n",
       "      <td>3</td>\n",
       "      <td>5</td>\n",
       "    </tr>\n",
       "    <tr>\n",
       "      <th>2</th>\n",
       "      <td>13201</td>\n",
       "      <td>100.00</td>\n",
       "      <td>100.00</td>\n",
       "      <td>-100.00</td>\n",
       "      <td>1</td>\n",
       "      <td>0</td>\n",
       "      <td>0.00</td>\n",
       "      <td>1.90</td>\n",
       "      <td>1.90</td>\n",
       "      <td>0.00</td>\n",
       "      <td>1</td>\n",
       "      <td>1</td>\n",
       "      <td>1</td>\n",
       "    </tr>\n",
       "    <tr>\n",
       "      <th>3</th>\n",
       "      <td>13275</td>\n",
       "      <td>347,378.00</td>\n",
       "      <td>1,973.74</td>\n",
       "      <td>26,569.40</td>\n",
       "      <td>176</td>\n",
       "      <td>93</td>\n",
       "      <td>0.53</td>\n",
       "      <td>1.96</td>\n",
       "      <td>1.88</td>\n",
       "      <td>0.62</td>\n",
       "      <td>3</td>\n",
       "      <td>11</td>\n",
       "      <td>58</td>\n",
       "    </tr>\n",
       "    <tr>\n",
       "      <th>4</th>\n",
       "      <td>13283</td>\n",
       "      <td>280.00</td>\n",
       "      <td>56.00</td>\n",
       "      <td>13.28</td>\n",
       "      <td>5</td>\n",
       "      <td>2</td>\n",
       "      <td>0.40</td>\n",
       "      <td>2.25</td>\n",
       "      <td>2.27</td>\n",
       "      <td>0.45</td>\n",
       "      <td>1</td>\n",
       "      <td>1</td>\n",
       "      <td>5</td>\n",
       "    </tr>\n",
       "    <tr>\n",
       "      <th>...</th>\n",
       "      <td>...</td>\n",
       "      <td>...</td>\n",
       "      <td>...</td>\n",
       "      <td>...</td>\n",
       "      <td>...</td>\n",
       "      <td>...</td>\n",
       "      <td>...</td>\n",
       "      <td>...</td>\n",
       "      <td>...</td>\n",
       "      <td>...</td>\n",
       "      <td>...</td>\n",
       "      <td>...</td>\n",
       "      <td>...</td>\n",
       "    </tr>\n",
       "    <tr>\n",
       "      <th>9846</th>\n",
       "      <td>9946041</td>\n",
       "      <td>300.00</td>\n",
       "      <td>300.00</td>\n",
       "      <td>99.00</td>\n",
       "      <td>1</td>\n",
       "      <td>1</td>\n",
       "      <td>1.00</td>\n",
       "      <td>1.33</td>\n",
       "      <td>1.33</td>\n",
       "      <td>0.00</td>\n",
       "      <td>1</td>\n",
       "      <td>1</td>\n",
       "      <td>1</td>\n",
       "    </tr>\n",
       "    <tr>\n",
       "      <th>9847</th>\n",
       "      <td>9946185</td>\n",
       "      <td>1,750.00</td>\n",
       "      <td>134.62</td>\n",
       "      <td>2,219.90</td>\n",
       "      <td>13</td>\n",
       "      <td>12</td>\n",
       "      <td>0.92</td>\n",
       "      <td>2.51</td>\n",
       "      <td>2.24</td>\n",
       "      <td>0.66</td>\n",
       "      <td>1</td>\n",
       "      <td>2</td>\n",
       "      <td>5</td>\n",
       "    </tr>\n",
       "    <tr>\n",
       "      <th>9848</th>\n",
       "      <td>9946916</td>\n",
       "      <td>1,032.91</td>\n",
       "      <td>147.56</td>\n",
       "      <td>-71.07</td>\n",
       "      <td>7</td>\n",
       "      <td>3</td>\n",
       "      <td>0.43</td>\n",
       "      <td>2.09</td>\n",
       "      <td>1.93</td>\n",
       "      <td>0.55</td>\n",
       "      <td>2</td>\n",
       "      <td>2</td>\n",
       "      <td>2</td>\n",
       "    </tr>\n",
       "    <tr>\n",
       "      <th>9849</th>\n",
       "      <td>9947728</td>\n",
       "      <td>59.00</td>\n",
       "      <td>14.75</td>\n",
       "      <td>-6.40</td>\n",
       "      <td>4</td>\n",
       "      <td>3</td>\n",
       "      <td>0.75</td>\n",
       "      <td>1.96</td>\n",
       "      <td>1.31</td>\n",
       "      <td>1.30</td>\n",
       "      <td>1</td>\n",
       "      <td>2</td>\n",
       "      <td>3</td>\n",
       "    </tr>\n",
       "    <tr>\n",
       "      <th>9850</th>\n",
       "      <td>9948007</td>\n",
       "      <td>294.00</td>\n",
       "      <td>294.00</td>\n",
       "      <td>-294.00</td>\n",
       "      <td>1</td>\n",
       "      <td>0</td>\n",
       "      <td>0.00</td>\n",
       "      <td>1.90</td>\n",
       "      <td>1.90</td>\n",
       "      <td>0.00</td>\n",
       "      <td>1</td>\n",
       "      <td>1</td>\n",
       "      <td>1</td>\n",
       "    </tr>\n",
       "  </tbody>\n",
       "</table>\n",
       "<p>9851 rows × 13 columns</p>\n",
       "</div>"
      ],
      "text/plain": [
       "      MainAccountSN     玩家总投注额  玩家平均投注额     玩家总损益  玩家投注单量  玩家季度获胜数  玩家季度胜率  \\\n",
       "0             13086     705.00   352.50    564.00       2        2    1.00   \n",
       "1             13124   2,594.00   235.82 -1,819.18      11        3    0.27   \n",
       "2             13201     100.00   100.00   -100.00       1        0    0.00   \n",
       "3             13275 347,378.00 1,973.74 26,569.40     176       93    0.53   \n",
       "4             13283     280.00    56.00     13.28       5        2    0.40   \n",
       "...             ...        ...      ...       ...     ...      ...     ...   \n",
       "9846        9946041     300.00   300.00     99.00       1        1    1.00   \n",
       "9847        9946185   1,750.00   134.62  2,219.90      13       12    0.92   \n",
       "9848        9946916   1,032.91   147.56    -71.07       7        3    0.43   \n",
       "9849        9947728      59.00    14.75     -6.40       4        3    0.75   \n",
       "9850        9948007     294.00   294.00   -294.00       1        0    0.00   \n",
       "\n",
       "      投注赔率平均  投注赔率中位数  投注赔率标准差  投注游戏种类数  投注联赛数  投注比赛数  \n",
       "0       1.80     1.80     0.00        1      1      1  \n",
       "1       2.01     1.72     0.66        3      3      5  \n",
       "2       1.90     1.90     0.00        1      1      1  \n",
       "3       1.96     1.88     0.62        3     11     58  \n",
       "4       2.25     2.27     0.45        1      1      5  \n",
       "...      ...      ...      ...      ...    ...    ...  \n",
       "9846    1.33     1.33     0.00        1      1      1  \n",
       "9847    2.51     2.24     0.66        1      2      5  \n",
       "9848    2.09     1.93     0.55        2      2      2  \n",
       "9849    1.96     1.31     1.30        1      2      3  \n",
       "9850    1.90     1.90     0.00        1      1      1  \n",
       "\n",
       "[9851 rows x 13 columns]"
      ]
     },
     "execution_count": 5,
     "metadata": {},
     "output_type": "execute_result"
    }
   ],
   "source": [
    "pd.options.display.float_format = \"{:,.2f}\".format\n",
    "player_win_info"
   ]
  },
  {
   "cell_type": "markdown",
   "metadata": {},
   "source": [
    "## 注单量小于 Q1"
   ]
  },
  {
   "cell_type": "code",
   "execution_count": null,
   "metadata": {
    "ExecuteTime": {
     "end_time": "2021-04-01T02:32:27.454499Z",
     "start_time": "2021-04-01T02:32:27.384984Z"
    }
   },
   "outputs": [],
   "source": [
    "player_bet_lower_part_1 = player_win_info[player_win_info.玩家投注单量 <= player_win_info.玩家投注单量.quantile(0.25)].reset_index(drop = True)"
   ]
  },
  {
   "cell_type": "code",
   "execution_count": null,
   "metadata": {
    "ExecuteTime": {
     "end_time": "2021-04-01T02:32:32.130570Z",
     "start_time": "2021-04-01T02:32:32.116537Z"
    }
   },
   "outputs": [],
   "source": [
    "player_bet_lower_part_1.玩家总投注额.describe()"
   ]
  },
  {
   "cell_type": "code",
   "execution_count": null,
   "metadata": {
    "ExecuteTime": {
     "end_time": "2021-03-29T06:24:01.587139Z",
     "start_time": "2021-03-29T06:24:01.569128Z"
    }
   },
   "outputs": [],
   "source": [
    "player_bet_lower_part_1.sort_values('玩家总损益', ascending = False)"
   ]
  },
  {
   "cell_type": "markdown",
   "metadata": {},
   "source": [
    "## 注单量 Q1 ~ Pr 95"
   ]
  },
  {
   "cell_type": "markdown",
   "metadata": {},
   "source": [
    "### Create estimated true winning rate columns\n",
    "* 新增依返还率推估真实机率栏位\n",
    "* 新增相对胜率推估值\n",
    "* 返还率: 0.92 , 0.95"
   ]
  },
  {
   "cell_type": "code",
   "execution_count": 53,
   "metadata": {
    "ExecuteTime": {
     "end_time": "2021-04-01T05:48:11.703546Z",
     "start_time": "2021-04-01T05:48:11.683563Z"
    }
   },
   "outputs": [],
   "source": [
    "q1_bet_num = player_win_info.玩家投注单量.quantile(0.25)\n",
    "pr95_bet_num = player_win_info.玩家投注单量.quantile(0.95)\n",
    "player_bet_lower_part_2 = player_win_info.query('@q1_bet_num <= 玩家投注单量 <= @pr95_bet_num').reset_index(drop = True)"
   ]
  },
  {
   "cell_type": "code",
   "execution_count": 54,
   "metadata": {
    "ExecuteTime": {
     "end_time": "2021-04-01T05:48:15.761577Z",
     "start_time": "2021-04-01T05:48:15.746534Z"
    }
   },
   "outputs": [],
   "source": [
    "# rr = 92\n",
    "player_bet_lower_part_2['true_win_rate_92_mean'] = 1 / player_bet_lower_part_2['投注赔率平均'] * 0.92\n",
    "player_bet_lower_part_2['true_win_rate_92_median'] = 1 / player_bet_lower_part_2['投注赔率中位数'] * 0.92\n",
    "# rr = 95\n",
    "player_bet_lower_part_2['true_win_rate_95_mean'] = 1 / player_bet_lower_part_2['投注赔率平均'] * 0.95\n",
    "player_bet_lower_part_2['true_win_rate_95_median'] = 1 / player_bet_lower_part_2['投注赔率中位数'] * 0.95"
   ]
  },
  {
   "cell_type": "code",
   "execution_count": 55,
   "metadata": {
    "ExecuteTime": {
     "end_time": "2021-04-01T05:48:19.793094Z",
     "start_time": "2021-04-01T05:48:19.779102Z"
    }
   },
   "outputs": [],
   "source": [
    "col_names_list = list(player_bet_lower_part_2.filter(like = 'true_win_rate').columns)\n",
    "col_names_list_provided = [_ + '_increment' for _ in col_names_list]\n",
    "increment_df = player_bet_lower_part_2[['玩家季度胜率']].values / player_bet_lower_part_2.filter(like = 'true_win_rate') - 1\n",
    "increment_df.columns = col_names_list_provided"
   ]
  },
  {
   "cell_type": "code",
   "execution_count": 56,
   "metadata": {
    "ExecuteTime": {
     "end_time": "2021-04-01T05:48:23.903336Z",
     "start_time": "2021-04-01T05:48:23.889321Z"
    }
   },
   "outputs": [],
   "source": [
    "player_bet_mid = pd.concat([player_bet_lower_part_2, increment_df], axis = 1)"
   ]
  },
  {
   "cell_type": "code",
   "execution_count": 57,
   "metadata": {
    "ExecuteTime": {
     "end_time": "2021-04-01T05:48:27.941416Z",
     "start_time": "2021-04-01T05:48:27.927402Z"
    }
   },
   "outputs": [
    {
     "data": {
      "text/plain": [
       "count   7,133.00\n",
       "mean        0.88\n",
       "std         0.99\n",
       "min         0.00\n",
       "25%         0.30\n",
       "50%         0.60\n",
       "75%         1.11\n",
       "max        13.83\n",
       "Name: 投注赔率标准差, dtype: float64"
      ]
     },
     "execution_count": 57,
     "metadata": {},
     "output_type": "execute_result"
    }
   ],
   "source": [
    "player_bet_mid.投注赔率标准差.describe()"
   ]
  },
  {
   "cell_type": "markdown",
   "metadata": {
    "ExecuteTime": {
     "end_time": "2021-04-01T05:24:09.134388Z",
     "start_time": "2021-04-01T05:24:09.128394Z"
    }
   },
   "source": [
    "### Split df by odds std\n",
    "* 将资料依玩家投注赔率标准差中位数分割"
   ]
  },
  {
   "cell_type": "code",
   "execution_count": 58,
   "metadata": {
    "ExecuteTime": {
     "end_time": "2021-04-01T05:48:32.015399Z",
     "start_time": "2021-04-01T05:48:31.987394Z"
    }
   },
   "outputs": [],
   "source": [
    "q2_odd_std = player_bet_mid.投注赔率标准差.quantile(0.5)\n",
    "player_bet_mid_std_high = player_bet_mid.query('@q2_odd_std <= 投注赔率标准差').reset_index(drop = True)\n",
    "player_bet_mid_std_low = player_bet_mid.query('投注赔率标准差 < @q2_odd_std').reset_index(drop = True)"
   ]
  },
  {
   "cell_type": "markdown",
   "metadata": {},
   "source": [
    "### Calculate summary statistics\n",
    "* 玩家投注单量中位数\n",
    "* 投注比赛数中位数"
   ]
  },
  {
   "cell_type": "code",
   "execution_count": 67,
   "metadata": {
    "ExecuteTime": {
     "end_time": "2021-04-01T05:59:29.697939Z",
     "start_time": "2021-04-01T05:59:29.681937Z"
    }
   },
   "outputs": [],
   "source": [
    "bet_num_mid_std_low = player_bet_mid_std_low.玩家投注单量.quantile(0.5)\n",
    "game_num_mid_std_low = player_bet_mid_std_low.投注比赛数.quantile(0.5)\n",
    "target_index = player_bet_mid_std_low.true_win_rate_95_mean_increment.quantile(0.95)"
   ]
  },
  {
   "cell_type": "code",
   "execution_count": 68,
   "metadata": {
    "ExecuteTime": {
     "end_time": "2021-04-01T05:59:33.790236Z",
     "start_time": "2021-04-01T05:59:33.759236Z"
    }
   },
   "outputs": [
    {
     "data": {
      "text/html": [
       "<div>\n",
       "<style scoped>\n",
       "    .dataframe tbody tr th:only-of-type {\n",
       "        vertical-align: middle;\n",
       "    }\n",
       "\n",
       "    .dataframe tbody tr th {\n",
       "        vertical-align: top;\n",
       "    }\n",
       "\n",
       "    .dataframe thead th {\n",
       "        text-align: right;\n",
       "    }\n",
       "</style>\n",
       "<table border=\"1\" class=\"dataframe\">\n",
       "  <thead>\n",
       "    <tr style=\"text-align: right;\">\n",
       "      <th></th>\n",
       "      <th>MainAccountSN</th>\n",
       "      <th>玩家总投注额</th>\n",
       "      <th>玩家平均投注额</th>\n",
       "      <th>玩家总损益</th>\n",
       "      <th>玩家投注单量</th>\n",
       "      <th>玩家季度获胜数</th>\n",
       "      <th>玩家季度胜率</th>\n",
       "      <th>投注赔率平均</th>\n",
       "      <th>投注赔率中位数</th>\n",
       "      <th>投注赔率标准差</th>\n",
       "      <th>...</th>\n",
       "      <th>投注联赛数</th>\n",
       "      <th>投注比赛数</th>\n",
       "      <th>true_win_rate_92_mean</th>\n",
       "      <th>true_win_rate_92_median</th>\n",
       "      <th>true_win_rate_95_mean</th>\n",
       "      <th>true_win_rate_95_median</th>\n",
       "      <th>true_win_rate_92_mean_increment</th>\n",
       "      <th>true_win_rate_92_median_increment</th>\n",
       "      <th>true_win_rate_95_mean_increment</th>\n",
       "      <th>true_win_rate_95_median_increment</th>\n",
       "    </tr>\n",
       "  </thead>\n",
       "  <tbody>\n",
       "    <tr>\n",
       "      <th>35</th>\n",
       "      <td>545065</td>\n",
       "      <td>17,340.00</td>\n",
       "      <td>394.09</td>\n",
       "      <td>18,099.00</td>\n",
       "      <td>44</td>\n",
       "      <td>34</td>\n",
       "      <td>0.77</td>\n",
       "      <td>2.68</td>\n",
       "      <td>2.75</td>\n",
       "      <td>0.54</td>\n",
       "      <td>...</td>\n",
       "      <td>5</td>\n",
       "      <td>9</td>\n",
       "      <td>0.34</td>\n",
       "      <td>0.33</td>\n",
       "      <td>0.35</td>\n",
       "      <td>0.35</td>\n",
       "      <td>1.25</td>\n",
       "      <td>1.31</td>\n",
       "      <td>1.18</td>\n",
       "      <td>1.24</td>\n",
       "    </tr>\n",
       "    <tr>\n",
       "      <th>1435</th>\n",
       "      <td>6534514</td>\n",
       "      <td>9,611.36</td>\n",
       "      <td>533.96</td>\n",
       "      <td>7,404.63</td>\n",
       "      <td>18</td>\n",
       "      <td>14</td>\n",
       "      <td>0.78</td>\n",
       "      <td>2.28</td>\n",
       "      <td>2.24</td>\n",
       "      <td>0.51</td>\n",
       "      <td>...</td>\n",
       "      <td>10</td>\n",
       "      <td>14</td>\n",
       "      <td>0.40</td>\n",
       "      <td>0.41</td>\n",
       "      <td>0.42</td>\n",
       "      <td>0.42</td>\n",
       "      <td>0.93</td>\n",
       "      <td>0.89</td>\n",
       "      <td>0.87</td>\n",
       "      <td>0.83</td>\n",
       "    </tr>\n",
       "    <tr>\n",
       "      <th>2273</th>\n",
       "      <td>8491244</td>\n",
       "      <td>1,400.00</td>\n",
       "      <td>87.50</td>\n",
       "      <td>1,547.78</td>\n",
       "      <td>16</td>\n",
       "      <td>13</td>\n",
       "      <td>0.81</td>\n",
       "      <td>2.36</td>\n",
       "      <td>2.35</td>\n",
       "      <td>0.38</td>\n",
       "      <td>...</td>\n",
       "      <td>1</td>\n",
       "      <td>11</td>\n",
       "      <td>0.39</td>\n",
       "      <td>0.39</td>\n",
       "      <td>0.40</td>\n",
       "      <td>0.40</td>\n",
       "      <td>1.08</td>\n",
       "      <td>1.08</td>\n",
       "      <td>1.02</td>\n",
       "      <td>1.01</td>\n",
       "    </tr>\n",
       "    <tr>\n",
       "      <th>2958</th>\n",
       "      <td>9389921</td>\n",
       "      <td>7,894.00</td>\n",
       "      <td>375.90</td>\n",
       "      <td>6,865.90</td>\n",
       "      <td>21</td>\n",
       "      <td>20</td>\n",
       "      <td>0.95</td>\n",
       "      <td>1.95</td>\n",
       "      <td>1.80</td>\n",
       "      <td>0.32</td>\n",
       "      <td>...</td>\n",
       "      <td>2</td>\n",
       "      <td>7</td>\n",
       "      <td>0.47</td>\n",
       "      <td>0.51</td>\n",
       "      <td>0.49</td>\n",
       "      <td>0.53</td>\n",
       "      <td>1.02</td>\n",
       "      <td>0.86</td>\n",
       "      <td>0.96</td>\n",
       "      <td>0.80</td>\n",
       "    </tr>\n",
       "    <tr>\n",
       "      <th>3508</th>\n",
       "      <td>9909096</td>\n",
       "      <td>49,424.00</td>\n",
       "      <td>1,372.89</td>\n",
       "      <td>21,704.44</td>\n",
       "      <td>36</td>\n",
       "      <td>30</td>\n",
       "      <td>0.83</td>\n",
       "      <td>2.10</td>\n",
       "      <td>2.35</td>\n",
       "      <td>0.56</td>\n",
       "      <td>...</td>\n",
       "      <td>7</td>\n",
       "      <td>9</td>\n",
       "      <td>0.44</td>\n",
       "      <td>0.39</td>\n",
       "      <td>0.45</td>\n",
       "      <td>0.40</td>\n",
       "      <td>0.90</td>\n",
       "      <td>1.13</td>\n",
       "      <td>0.84</td>\n",
       "      <td>1.06</td>\n",
       "    </tr>\n",
       "  </tbody>\n",
       "</table>\n",
       "<p>5 rows × 21 columns</p>\n",
       "</div>"
      ],
      "text/plain": [
       "      MainAccountSN    玩家总投注额  玩家平均投注额     玩家总损益  玩家投注单量  玩家季度获胜数  玩家季度胜率  \\\n",
       "35           545065 17,340.00   394.09 18,099.00      44       34    0.77   \n",
       "1435        6534514  9,611.36   533.96  7,404.63      18       14    0.78   \n",
       "2273        8491244  1,400.00    87.50  1,547.78      16       13    0.81   \n",
       "2958        9389921  7,894.00   375.90  6,865.90      21       20    0.95   \n",
       "3508        9909096 49,424.00 1,372.89 21,704.44      36       30    0.83   \n",
       "\n",
       "      投注赔率平均  投注赔率中位数  投注赔率标准差  ...  投注联赛数  投注比赛数  true_win_rate_92_mean  \\\n",
       "35      2.68     2.75     0.54  ...      5      9                   0.34   \n",
       "1435    2.28     2.24     0.51  ...     10     14                   0.40   \n",
       "2273    2.36     2.35     0.38  ...      1     11                   0.39   \n",
       "2958    1.95     1.80     0.32  ...      2      7                   0.47   \n",
       "3508    2.10     2.35     0.56  ...      7      9                   0.44   \n",
       "\n",
       "      true_win_rate_92_median  true_win_rate_95_mean  true_win_rate_95_median  \\\n",
       "35                       0.33                   0.35                     0.35   \n",
       "1435                     0.41                   0.42                     0.42   \n",
       "2273                     0.39                   0.40                     0.40   \n",
       "2958                     0.51                   0.49                     0.53   \n",
       "3508                     0.39                   0.45                     0.40   \n",
       "\n",
       "      true_win_rate_92_mean_increment  true_win_rate_92_median_increment  \\\n",
       "35                               1.25                               1.31   \n",
       "1435                             0.93                               0.89   \n",
       "2273                             1.08                               1.08   \n",
       "2958                             1.02                               0.86   \n",
       "3508                             0.90                               1.13   \n",
       "\n",
       "      true_win_rate_95_mean_increment  true_win_rate_95_median_increment  \n",
       "35                               1.18                               1.24  \n",
       "1435                             0.87                               0.83  \n",
       "2273                             1.02                               1.01  \n",
       "2958                             0.96                               0.80  \n",
       "3508                             0.84                               1.06  \n",
       "\n",
       "[5 rows x 21 columns]"
      ]
     },
     "execution_count": 68,
     "metadata": {},
     "output_type": "execute_result"
    }
   ],
   "source": [
    "# Low variance\n",
    "player_bet_mid_std_low.query('玩家投注单量 > @bet_num_mid_std_low and \\\n",
    "                              投注比赛数 >= @game_num_mid_std_low and \\\n",
    "                              true_win_rate_95_mean_increment >= @target_index')"
   ]
  },
  {
   "cell_type": "code",
   "execution_count": null,
   "metadata": {},
   "outputs": [],
   "source": [
    "# High variance"
   ]
  },
  {
   "cell_type": "code",
   "execution_count": 69,
   "metadata": {
    "ExecuteTime": {
     "end_time": "2021-04-01T06:00:22.286496Z",
     "start_time": "2021-04-01T06:00:22.271496Z"
    }
   },
   "outputs": [],
   "source": [
    "bet_num_mid_std_high = player_bet_mid_std_high.玩家投注单量.quantile(0.5)\n",
    "game_num_mid_std_high = player_bet_mid_std_high.投注比赛数.quantile(0.5)\n",
    "target_index_high = player_bet_mid_std_high.true_win_rate_95_median_increment.quantile(0.95)"
   ]
  },
  {
   "cell_type": "code",
   "execution_count": 70,
   "metadata": {
    "ExecuteTime": {
     "end_time": "2021-04-01T06:00:26.397964Z",
     "start_time": "2021-04-01T06:00:26.366948Z"
    }
   },
   "outputs": [
    {
     "data": {
      "text/html": [
       "<div>\n",
       "<style scoped>\n",
       "    .dataframe tbody tr th:only-of-type {\n",
       "        vertical-align: middle;\n",
       "    }\n",
       "\n",
       "    .dataframe tbody tr th {\n",
       "        vertical-align: top;\n",
       "    }\n",
       "\n",
       "    .dataframe thead th {\n",
       "        text-align: right;\n",
       "    }\n",
       "</style>\n",
       "<table border=\"1\" class=\"dataframe\">\n",
       "  <thead>\n",
       "    <tr style=\"text-align: right;\">\n",
       "      <th></th>\n",
       "      <th>MainAccountSN</th>\n",
       "      <th>玩家总投注额</th>\n",
       "      <th>玩家平均投注额</th>\n",
       "      <th>玩家总损益</th>\n",
       "      <th>玩家投注单量</th>\n",
       "      <th>玩家季度获胜数</th>\n",
       "      <th>玩家季度胜率</th>\n",
       "      <th>投注赔率平均</th>\n",
       "      <th>投注赔率中位数</th>\n",
       "      <th>投注赔率标准差</th>\n",
       "      <th>...</th>\n",
       "      <th>投注联赛数</th>\n",
       "      <th>投注比赛数</th>\n",
       "      <th>true_win_rate_92_mean</th>\n",
       "      <th>true_win_rate_92_median</th>\n",
       "      <th>true_win_rate_95_mean</th>\n",
       "      <th>true_win_rate_95_median</th>\n",
       "      <th>true_win_rate_92_mean_increment</th>\n",
       "      <th>true_win_rate_92_median_increment</th>\n",
       "      <th>true_win_rate_95_mean_increment</th>\n",
       "      <th>true_win_rate_95_median_increment</th>\n",
       "    </tr>\n",
       "  </thead>\n",
       "  <tbody>\n",
       "    <tr>\n",
       "      <th>1771</th>\n",
       "      <td>7313932</td>\n",
       "      <td>134,127.00</td>\n",
       "      <td>798.38</td>\n",
       "      <td>87,335.68</td>\n",
       "      <td>168</td>\n",
       "      <td>84</td>\n",
       "      <td>0.50</td>\n",
       "      <td>4.79</td>\n",
       "      <td>3.85</td>\n",
       "      <td>3.20</td>\n",
       "      <td>...</td>\n",
       "      <td>10</td>\n",
       "      <td>71</td>\n",
       "      <td>0.19</td>\n",
       "      <td>0.24</td>\n",
       "      <td>0.20</td>\n",
       "      <td>0.25</td>\n",
       "      <td>1.60</td>\n",
       "      <td>1.09</td>\n",
       "      <td>1.52</td>\n",
       "      <td>1.03</td>\n",
       "    </tr>\n",
       "    <tr>\n",
       "      <th>2660</th>\n",
       "      <td>8841618</td>\n",
       "      <td>4,008.00</td>\n",
       "      <td>48.29</td>\n",
       "      <td>6,507.26</td>\n",
       "      <td>83</td>\n",
       "      <td>45</td>\n",
       "      <td>0.54</td>\n",
       "      <td>4.39</td>\n",
       "      <td>3.45</td>\n",
       "      <td>2.86</td>\n",
       "      <td>...</td>\n",
       "      <td>6</td>\n",
       "      <td>26</td>\n",
       "      <td>0.21</td>\n",
       "      <td>0.27</td>\n",
       "      <td>0.22</td>\n",
       "      <td>0.28</td>\n",
       "      <td>1.59</td>\n",
       "      <td>1.03</td>\n",
       "      <td>1.50</td>\n",
       "      <td>0.97</td>\n",
       "    </tr>\n",
       "  </tbody>\n",
       "</table>\n",
       "<p>2 rows × 21 columns</p>\n",
       "</div>"
      ],
      "text/plain": [
       "      MainAccountSN     玩家总投注额  玩家平均投注额     玩家总损益  玩家投注单量  玩家季度获胜数  玩家季度胜率  \\\n",
       "1771        7313932 134,127.00   798.38 87,335.68     168       84    0.50   \n",
       "2660        8841618   4,008.00    48.29  6,507.26      83       45    0.54   \n",
       "\n",
       "      投注赔率平均  投注赔率中位数  投注赔率标准差  ...  投注联赛数  投注比赛数  true_win_rate_92_mean  \\\n",
       "1771    4.79     3.85     3.20  ...     10     71                   0.19   \n",
       "2660    4.39     3.45     2.86  ...      6     26                   0.21   \n",
       "\n",
       "      true_win_rate_92_median  true_win_rate_95_mean  true_win_rate_95_median  \\\n",
       "1771                     0.24                   0.20                     0.25   \n",
       "2660                     0.27                   0.22                     0.28   \n",
       "\n",
       "      true_win_rate_92_mean_increment  true_win_rate_92_median_increment  \\\n",
       "1771                             1.60                               1.09   \n",
       "2660                             1.59                               1.03   \n",
       "\n",
       "      true_win_rate_95_mean_increment  true_win_rate_95_median_increment  \n",
       "1771                             1.52                               1.03  \n",
       "2660                             1.50                               0.97  \n",
       "\n",
       "[2 rows x 21 columns]"
      ]
     },
     "execution_count": 70,
     "metadata": {},
     "output_type": "execute_result"
    }
   ],
   "source": [
    "player_bet_mid_std_high.query('玩家投注单量 > @bet_num_mid_std_high and \\\n",
    "                              投注比赛数 >= @game_num_mid_std_high and \\\n",
    "                              true_win_rate_95_median_increment >= @target_index')"
   ]
  },
  {
   "cell_type": "markdown",
   "metadata": {},
   "source": [
    "## 注单量 > PR 95"
   ]
  },
  {
   "cell_type": "code",
   "execution_count": 71,
   "metadata": {
    "ExecuteTime": {
     "end_time": "2021-04-01T06:03:47.847551Z",
     "start_time": "2021-04-01T06:03:47.823571Z"
    }
   },
   "outputs": [],
   "source": [
    "pr95_bet_num = player_win_info.玩家投注单量.quantile(0.95)\n",
    "player_bet_lower_part_3 = player_win_info.query('@pr95_bet_num < 玩家投注单量 ').reset_index(drop = True)"
   ]
  },
  {
   "cell_type": "code",
   "execution_count": 82,
   "metadata": {
    "ExecuteTime": {
     "end_time": "2021-04-01T06:09:10.170186Z",
     "start_time": "2021-04-01T06:09:10.163165Z"
    }
   },
   "outputs": [],
   "source": [
    "# rr = 93\n",
    "player_bet_lower_part_3['true_win_rate_93_mean'] = 1 / player_bet_lower_part_3['投注赔率平均'] * 0.93\n",
    "player_bet_lower_part_3['true_win_rate_93_median'] = 1 / player_bet_lower_part_3['投注赔率中位数'] * 0.93\n",
    "# rr = 95\n",
    "player_bet_lower_part_3['true_win_rate_95_mean'] = 1 / player_bet_lower_part_3['投注赔率平均'] * 0.95\n",
    "player_bet_lower_part_3['true_win_rate_95_median'] = 1 / player_bet_lower_part_3['投注赔率中位数'] * 0.95"
   ]
  },
  {
   "cell_type": "code",
   "execution_count": 83,
   "metadata": {
    "ExecuteTime": {
     "end_time": "2021-04-01T06:09:21.088258Z",
     "start_time": "2021-04-01T06:09:21.075239Z"
    }
   },
   "outputs": [],
   "source": [
    "col_names_list = list(player_bet_lower_part_3.filter(like = 'true_win_rate').columns)\n",
    "col_names_list_provided = [_ + '_increment' for _ in col_names_list]\n",
    "increment_df = player_bet_lower_part_3[['玩家季度胜率']].values / player_bet_lower_part_3.filter(like = 'true_win_rate') - 1\n",
    "increment_df.columns = col_names_list_provided"
   ]
  },
  {
   "cell_type": "code",
   "execution_count": 84,
   "metadata": {
    "ExecuteTime": {
     "end_time": "2021-04-01T06:09:29.349201Z",
     "start_time": "2021-04-01T06:09:29.343164Z"
    }
   },
   "outputs": [],
   "source": [
    "player_bet_high = pd.concat([player_bet_lower_part_3, increment_df], axis = 1)"
   ]
  },
  {
   "cell_type": "markdown",
   "metadata": {
    "ExecuteTime": {
     "end_time": "2021-04-01T05:24:09.134388Z",
     "start_time": "2021-04-01T05:24:09.128394Z"
    }
   },
   "source": [
    "### Split df by odds std\n",
    "* 将资料依玩家投注赔率中位数分割"
   ]
  },
  {
   "cell_type": "code",
   "execution_count": 86,
   "metadata": {
    "ExecuteTime": {
     "end_time": "2021-04-01T06:10:23.165759Z",
     "start_time": "2021-04-01T06:10:23.144766Z"
    }
   },
   "outputs": [],
   "source": [
    "q2_odd_std = player_bet_high.投注赔率标准差.quantile(0.5)\n",
    "player_bet_high_std_high = player_bet_high.query('@q2_odd_std <= 投注赔率标准差').reset_index(drop = True)\n",
    "player_bet_high_std_low = player_bet_high.query('投注赔率标准差 < @q2_odd_std').reset_index(drop = True)"
   ]
  },
  {
   "cell_type": "markdown",
   "metadata": {},
   "source": [
    "### Calculate summary statistics\n",
    "* 玩家投注单量中位数\n",
    "* 投注比赛数中位数"
   ]
  },
  {
   "cell_type": "code",
   "execution_count": 87,
   "metadata": {
    "ExecuteTime": {
     "end_time": "2021-04-01T06:10:38.592668Z",
     "start_time": "2021-04-01T06:10:38.581669Z"
    }
   },
   "outputs": [],
   "source": [
    "bet_num_high_std_low = player_bet_high_std_low.玩家投注单量.quantile(0.5)\n",
    "game_num_high_std_low = player_bet_high_std_low.投注比赛数.quantile(0.5)\n",
    "target_index = player_bet_high_std_low.true_win_rate_95_mean_increment.quantile(0.95)"
   ]
  },
  {
   "cell_type": "code",
   "execution_count": 88,
   "metadata": {
    "ExecuteTime": {
     "end_time": "2021-04-01T06:10:43.630760Z",
     "start_time": "2021-04-01T06:10:43.602762Z"
    }
   },
   "outputs": [
    {
     "data": {
      "text/html": [
       "<div>\n",
       "<style scoped>\n",
       "    .dataframe tbody tr th:only-of-type {\n",
       "        vertical-align: middle;\n",
       "    }\n",
       "\n",
       "    .dataframe tbody tr th {\n",
       "        vertical-align: top;\n",
       "    }\n",
       "\n",
       "    .dataframe thead th {\n",
       "        text-align: right;\n",
       "    }\n",
       "</style>\n",
       "<table border=\"1\" class=\"dataframe\">\n",
       "  <thead>\n",
       "    <tr style=\"text-align: right;\">\n",
       "      <th></th>\n",
       "      <th>MainAccountSN</th>\n",
       "      <th>玩家总投注额</th>\n",
       "      <th>玩家平均投注额</th>\n",
       "      <th>玩家总损益</th>\n",
       "      <th>玩家投注单量</th>\n",
       "      <th>玩家季度获胜数</th>\n",
       "      <th>玩家季度胜率</th>\n",
       "      <th>投注赔率平均</th>\n",
       "      <th>投注赔率中位数</th>\n",
       "      <th>投注赔率标准差</th>\n",
       "      <th>...</th>\n",
       "      <th>投注联赛数</th>\n",
       "      <th>投注比赛数</th>\n",
       "      <th>true_win_rate_93_mean</th>\n",
       "      <th>true_win_rate_93_median</th>\n",
       "      <th>true_win_rate_95_mean</th>\n",
       "      <th>true_win_rate_95_median</th>\n",
       "      <th>true_win_rate_93_mean_increment</th>\n",
       "      <th>true_win_rate_93_median_increment</th>\n",
       "      <th>true_win_rate_95_mean_increment</th>\n",
       "      <th>true_win_rate_95_median_increment</th>\n",
       "    </tr>\n",
       "  </thead>\n",
       "  <tbody>\n",
       "    <tr>\n",
       "      <th>58</th>\n",
       "      <td>2331915</td>\n",
       "      <td>4,939,296.73</td>\n",
       "      <td>2,265.73</td>\n",
       "      <td>395,642.98</td>\n",
       "      <td>2180</td>\n",
       "      <td>1386</td>\n",
       "      <td>0.64</td>\n",
       "      <td>1.84</td>\n",
       "      <td>1.80</td>\n",
       "      <td>0.70</td>\n",
       "      <td>...</td>\n",
       "      <td>44</td>\n",
       "      <td>295</td>\n",
       "      <td>0.51</td>\n",
       "      <td>0.52</td>\n",
       "      <td>0.52</td>\n",
       "      <td>0.53</td>\n",
       "      <td>0.26</td>\n",
       "      <td>0.23</td>\n",
       "      <td>0.23</td>\n",
       "      <td>0.20</td>\n",
       "    </tr>\n",
       "    <tr>\n",
       "      <th>65</th>\n",
       "      <td>2533693</td>\n",
       "      <td>1,562,772.00</td>\n",
       "      <td>1,934.12</td>\n",
       "      <td>29,493.27</td>\n",
       "      <td>808</td>\n",
       "      <td>549</td>\n",
       "      <td>0.68</td>\n",
       "      <td>1.72</td>\n",
       "      <td>1.50</td>\n",
       "      <td>0.78</td>\n",
       "      <td>...</td>\n",
       "      <td>36</td>\n",
       "      <td>323</td>\n",
       "      <td>0.54</td>\n",
       "      <td>0.62</td>\n",
       "      <td>0.55</td>\n",
       "      <td>0.63</td>\n",
       "      <td>0.26</td>\n",
       "      <td>0.10</td>\n",
       "      <td>0.23</td>\n",
       "      <td>0.07</td>\n",
       "    </tr>\n",
       "    <tr>\n",
       "      <th>128</th>\n",
       "      <td>5002333</td>\n",
       "      <td>1,466,108.00</td>\n",
       "      <td>1,042.75</td>\n",
       "      <td>16,943.26</td>\n",
       "      <td>1406</td>\n",
       "      <td>896</td>\n",
       "      <td>0.64</td>\n",
       "      <td>1.79</td>\n",
       "      <td>1.66</td>\n",
       "      <td>0.79</td>\n",
       "      <td>...</td>\n",
       "      <td>53</td>\n",
       "      <td>387</td>\n",
       "      <td>0.52</td>\n",
       "      <td>0.56</td>\n",
       "      <td>0.53</td>\n",
       "      <td>0.57</td>\n",
       "      <td>0.23</td>\n",
       "      <td>0.14</td>\n",
       "      <td>0.20</td>\n",
       "      <td>0.11</td>\n",
       "    </tr>\n",
       "    <tr>\n",
       "      <th>171</th>\n",
       "      <td>7094493</td>\n",
       "      <td>2,575,991.41</td>\n",
       "      <td>1,701.45</td>\n",
       "      <td>173,964.42</td>\n",
       "      <td>1514</td>\n",
       "      <td>977</td>\n",
       "      <td>0.65</td>\n",
       "      <td>1.74</td>\n",
       "      <td>1.69</td>\n",
       "      <td>0.39</td>\n",
       "      <td>...</td>\n",
       "      <td>31</td>\n",
       "      <td>331</td>\n",
       "      <td>0.53</td>\n",
       "      <td>0.55</td>\n",
       "      <td>0.55</td>\n",
       "      <td>0.56</td>\n",
       "      <td>0.21</td>\n",
       "      <td>0.17</td>\n",
       "      <td>0.18</td>\n",
       "      <td>0.15</td>\n",
       "    </tr>\n",
       "    <tr>\n",
       "      <th>187</th>\n",
       "      <td>7725224</td>\n",
       "      <td>565,579.75</td>\n",
       "      <td>390.06</td>\n",
       "      <td>22,340.49</td>\n",
       "      <td>1450</td>\n",
       "      <td>1177</td>\n",
       "      <td>0.81</td>\n",
       "      <td>1.40</td>\n",
       "      <td>1.19</td>\n",
       "      <td>0.81</td>\n",
       "      <td>...</td>\n",
       "      <td>33</td>\n",
       "      <td>352</td>\n",
       "      <td>0.66</td>\n",
       "      <td>0.78</td>\n",
       "      <td>0.68</td>\n",
       "      <td>0.80</td>\n",
       "      <td>0.23</td>\n",
       "      <td>0.04</td>\n",
       "      <td>0.20</td>\n",
       "      <td>0.02</td>\n",
       "    </tr>\n",
       "  </tbody>\n",
       "</table>\n",
       "<p>5 rows × 21 columns</p>\n",
       "</div>"
      ],
      "text/plain": [
       "     MainAccountSN       玩家总投注额  玩家平均投注额      玩家总损益  玩家投注单量  玩家季度获胜数  玩家季度胜率  \\\n",
       "58         2331915 4,939,296.73 2,265.73 395,642.98    2180     1386    0.64   \n",
       "65         2533693 1,562,772.00 1,934.12  29,493.27     808      549    0.68   \n",
       "128        5002333 1,466,108.00 1,042.75  16,943.26    1406      896    0.64   \n",
       "171        7094493 2,575,991.41 1,701.45 173,964.42    1514      977    0.65   \n",
       "187        7725224   565,579.75   390.06  22,340.49    1450     1177    0.81   \n",
       "\n",
       "     投注赔率平均  投注赔率中位数  投注赔率标准差  ...  投注联赛数  投注比赛数  true_win_rate_93_mean  \\\n",
       "58     1.84     1.80     0.70  ...     44    295                   0.51   \n",
       "65     1.72     1.50     0.78  ...     36    323                   0.54   \n",
       "128    1.79     1.66     0.79  ...     53    387                   0.52   \n",
       "171    1.74     1.69     0.39  ...     31    331                   0.53   \n",
       "187    1.40     1.19     0.81  ...     33    352                   0.66   \n",
       "\n",
       "     true_win_rate_93_median  true_win_rate_95_mean  true_win_rate_95_median  \\\n",
       "58                      0.52                   0.52                     0.53   \n",
       "65                      0.62                   0.55                     0.63   \n",
       "128                     0.56                   0.53                     0.57   \n",
       "171                     0.55                   0.55                     0.56   \n",
       "187                     0.78                   0.68                     0.80   \n",
       "\n",
       "     true_win_rate_93_mean_increment  true_win_rate_93_median_increment  \\\n",
       "58                              0.26                               0.23   \n",
       "65                              0.26                               0.10   \n",
       "128                             0.23                               0.14   \n",
       "171                             0.21                               0.17   \n",
       "187                             0.23                               0.04   \n",
       "\n",
       "     true_win_rate_95_mean_increment  true_win_rate_95_median_increment  \n",
       "58                              0.23                               0.20  \n",
       "65                              0.23                               0.07  \n",
       "128                             0.20                               0.11  \n",
       "171                             0.18                               0.15  \n",
       "187                             0.20                               0.02  \n",
       "\n",
       "[5 rows x 21 columns]"
      ]
     },
     "execution_count": 88,
     "metadata": {},
     "output_type": "execute_result"
    }
   ],
   "source": [
    "# Low variance\n",
    "player_bet_high_std_low.query('玩家投注单量 > @bet_num_high_std_low and \\\n",
    "                              投注比赛数 >= @game_num_high_std_low and \\\n",
    "                              true_win_rate_95_mean_increment >= @target_index')"
   ]
  },
  {
   "cell_type": "code",
   "execution_count": null,
   "metadata": {},
   "outputs": [],
   "source": [
    "# High variance"
   ]
  },
  {
   "cell_type": "code",
   "execution_count": 93,
   "metadata": {
    "ExecuteTime": {
     "end_time": "2021-04-01T06:14:51.445452Z",
     "start_time": "2021-04-01T06:14:51.431440Z"
    }
   },
   "outputs": [],
   "source": [
    "bet_num_high_std_high = player_bet_high_std_high.玩家投注单量.quantile(0.5)\n",
    "game_num_high_std_high = player_bet_high_std_high.投注比赛数.quantile(0.5)\n",
    "target_index_high = player_bet_high_std_high.true_win_rate_95_median_increment.quantile(0.95)"
   ]
  },
  {
   "cell_type": "code",
   "execution_count": 94,
   "metadata": {
    "ExecuteTime": {
     "end_time": "2021-04-01T06:14:55.664057Z",
     "start_time": "2021-04-01T06:14:55.634043Z"
    }
   },
   "outputs": [
    {
     "data": {
      "text/html": [
       "<div>\n",
       "<style scoped>\n",
       "    .dataframe tbody tr th:only-of-type {\n",
       "        vertical-align: middle;\n",
       "    }\n",
       "\n",
       "    .dataframe tbody tr th {\n",
       "        vertical-align: top;\n",
       "    }\n",
       "\n",
       "    .dataframe thead th {\n",
       "        text-align: right;\n",
       "    }\n",
       "</style>\n",
       "<table border=\"1\" class=\"dataframe\">\n",
       "  <thead>\n",
       "    <tr style=\"text-align: right;\">\n",
       "      <th></th>\n",
       "      <th>MainAccountSN</th>\n",
       "      <th>玩家总投注额</th>\n",
       "      <th>玩家平均投注额</th>\n",
       "      <th>玩家总损益</th>\n",
       "      <th>玩家投注单量</th>\n",
       "      <th>玩家季度获胜数</th>\n",
       "      <th>玩家季度胜率</th>\n",
       "      <th>投注赔率平均</th>\n",
       "      <th>投注赔率中位数</th>\n",
       "      <th>投注赔率标准差</th>\n",
       "      <th>...</th>\n",
       "      <th>投注联赛数</th>\n",
       "      <th>投注比赛数</th>\n",
       "      <th>true_win_rate_93_mean</th>\n",
       "      <th>true_win_rate_93_median</th>\n",
       "      <th>true_win_rate_95_mean</th>\n",
       "      <th>true_win_rate_95_median</th>\n",
       "      <th>true_win_rate_93_mean_increment</th>\n",
       "      <th>true_win_rate_93_median_increment</th>\n",
       "      <th>true_win_rate_95_mean_increment</th>\n",
       "      <th>true_win_rate_95_median_increment</th>\n",
       "    </tr>\n",
       "  </thead>\n",
       "  <tbody>\n",
       "    <tr>\n",
       "      <th>60</th>\n",
       "      <td>2725510</td>\n",
       "      <td>90,055.04</td>\n",
       "      <td>145.96</td>\n",
       "      <td>7,557.12</td>\n",
       "      <td>617</td>\n",
       "      <td>125</td>\n",
       "      <td>0.20</td>\n",
       "      <td>7.08</td>\n",
       "      <td>6.00</td>\n",
       "      <td>4.20</td>\n",
       "      <td>...</td>\n",
       "      <td>58</td>\n",
       "      <td>393</td>\n",
       "      <td>0.13</td>\n",
       "      <td>0.15</td>\n",
       "      <td>0.13</td>\n",
       "      <td>0.16</td>\n",
       "      <td>0.54</td>\n",
       "      <td>0.31</td>\n",
       "      <td>0.51</td>\n",
       "      <td>0.28</td>\n",
       "    </tr>\n",
       "    <tr>\n",
       "      <th>68</th>\n",
       "      <td>3102358</td>\n",
       "      <td>160,620.00</td>\n",
       "      <td>175.35</td>\n",
       "      <td>24,019.89</td>\n",
       "      <td>916</td>\n",
       "      <td>508</td>\n",
       "      <td>0.55</td>\n",
       "      <td>2.36</td>\n",
       "      <td>2.06</td>\n",
       "      <td>1.20</td>\n",
       "      <td>...</td>\n",
       "      <td>30</td>\n",
       "      <td>278</td>\n",
       "      <td>0.39</td>\n",
       "      <td>0.45</td>\n",
       "      <td>0.40</td>\n",
       "      <td>0.46</td>\n",
       "      <td>0.41</td>\n",
       "      <td>0.23</td>\n",
       "      <td>0.38</td>\n",
       "      <td>0.20</td>\n",
       "    </tr>\n",
       "  </tbody>\n",
       "</table>\n",
       "<p>2 rows × 21 columns</p>\n",
       "</div>"
      ],
      "text/plain": [
       "    MainAccountSN     玩家总投注额  玩家平均投注额     玩家总损益  玩家投注单量  玩家季度获胜数  玩家季度胜率  \\\n",
       "60        2725510  90,055.04   145.96  7,557.12     617      125    0.20   \n",
       "68        3102358 160,620.00   175.35 24,019.89     916      508    0.55   \n",
       "\n",
       "    投注赔率平均  投注赔率中位数  投注赔率标准差  ...  投注联赛数  投注比赛数  true_win_rate_93_mean  \\\n",
       "60    7.08     6.00     4.20  ...     58    393                   0.13   \n",
       "68    2.36     2.06     1.20  ...     30    278                   0.39   \n",
       "\n",
       "    true_win_rate_93_median  true_win_rate_95_mean  true_win_rate_95_median  \\\n",
       "60                     0.15                   0.13                     0.16   \n",
       "68                     0.45                   0.40                     0.46   \n",
       "\n",
       "    true_win_rate_93_mean_increment  true_win_rate_93_median_increment  \\\n",
       "60                             0.54                               0.31   \n",
       "68                             0.41                               0.23   \n",
       "\n",
       "    true_win_rate_95_mean_increment  true_win_rate_95_median_increment  \n",
       "60                             0.51                               0.28  \n",
       "68                             0.38                               0.20  \n",
       "\n",
       "[2 rows x 21 columns]"
      ]
     },
     "execution_count": 94,
     "metadata": {},
     "output_type": "execute_result"
    }
   ],
   "source": [
    "player_bet_high_std_high.query('玩家投注单量 > @bet_num_high_std_high and \\\n",
    "                              投注比赛数 >= @game_num_high_std_high and \\\n",
    "                              true_win_rate_95_median_increment >= @target_index')"
   ]
  },
  {
   "cell_type": "code",
   "execution_count": null,
   "metadata": {},
   "outputs": [],
   "source": []
  }
 ],
 "metadata": {
  "kernelspec": {
   "display_name": "Python 3",
   "language": "python",
   "name": "python3"
  },
  "language_info": {
   "codemirror_mode": {
    "name": "ipython",
    "version": 3
   },
   "file_extension": ".py",
   "mimetype": "text/x-python",
   "name": "python",
   "nbconvert_exporter": "python",
   "pygments_lexer": "ipython3",
   "version": "3.8.5"
  },
  "toc": {
   "base_numbering": 1,
   "nav_menu": {},
   "number_sections": true,
   "sideBar": true,
   "skip_h1_title": false,
   "title_cell": "Table of Contents",
   "title_sidebar": "Contents",
   "toc_cell": false,
   "toc_position": {},
   "toc_section_display": true,
   "toc_window_display": false
  },
  "varInspector": {
   "cols": {
    "lenName": 16,
    "lenType": 16,
    "lenVar": 40
   },
   "kernels_config": {
    "python": {
     "delete_cmd_postfix": "",
     "delete_cmd_prefix": "del ",
     "library": "var_list.py",
     "varRefreshCmd": "print(var_dic_list())"
    },
    "r": {
     "delete_cmd_postfix": ") ",
     "delete_cmd_prefix": "rm(",
     "library": "var_list.r",
     "varRefreshCmd": "cat(var_dic_list()) "
    }
   },
   "types_to_exclude": [
    "module",
    "function",
    "builtin_function_or_method",
    "instance",
    "_Feature"
   ],
   "window_display": false
  }
 },
 "nbformat": 4,
 "nbformat_minor": 4
}
