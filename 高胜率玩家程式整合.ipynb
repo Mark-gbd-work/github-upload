{
 "cells": [
  {
   "cell_type": "code",
   "execution_count": 1,
   "metadata": {
    "ExecuteTime": {
     "end_time": "2021-04-01T06:18:29.648433Z",
     "start_time": "2021-04-01T06:18:29.402430Z"
    }
   },
   "outputs": [],
   "source": [
    "import numpy as np\n",
    "import pandas as pd\n",
    "import os\n",
    "import re"
   ]
  },
  {
   "cell_type": "markdown",
   "metadata": {},
   "source": [
    "# Data by season"
   ]
  },
  {
   "cell_type": "code",
   "execution_count": 2,
   "metadata": {
    "ExecuteTime": {
     "end_time": "2021-04-01T06:18:33.829290Z",
     "start_time": "2021-04-01T06:18:30.520663Z"
    }
   },
   "outputs": [
    {
     "name": "stderr",
     "output_type": "stream",
     "text": [
      "C:\\Users\\markchen\\Anaconda3\\lib\\site-packages\\IPython\\core\\interactiveshell.py:3146: DtypeWarning: Columns (17) have mixed types.Specify dtype option on import or set low_memory=False.\n",
      "  has_raised = await self.run_ast_nodes(code_ast.body, cell_name,\n"
     ]
    }
   ],
   "source": [
    "file_loc = 'C:/Users/markchen/Desktop/高胜率玩家分析/data/raw_data/'\n",
    "file_name = '玩家投注资料_2020_Q1.csv'\n",
    "raw_data = pd.read_csv(file_loc + file_name)"
   ]
  },
  {
   "cell_type": "markdown",
   "metadata": {},
   "source": [
    "# Preprocess"
   ]
  },
  {
   "cell_type": "markdown",
   "metadata": {},
   "source": [
    "## Groupby"
   ]
  },
  {
   "cell_type": "code",
   "execution_count": 7,
   "metadata": {
    "ExecuteTime": {
     "end_time": "2021-04-01T06:31:27.767564Z",
     "start_time": "2021-04-01T06:31:25.047615Z"
    }
   },
   "outputs": [],
   "source": [
    "player_win_info = raw_data.groupby('MainAccountSN').agg(\n",
    "    玩家季度获胜数 = ('BetResult', lambda x: sum(x == 'Won')),\n",
    "    玩家季度胜率 = ('BetResult', lambda x: sum(x == 'Won') / len(x)),\n",
    "    玩家投注单量 = ('TransactionMGUID', 'count'),\n",
    "    # 赔率资讯\n",
    "    投注赔率平均 = ('InitailBetRate', 'mean'),\n",
    "    投注赔率中位数 = ('InitailBetRate', 'median'),\n",
    "    投注赔率标准差 = ('InitailBetRate', 'std'),\n",
    "    # 比赛资讯,\n",
    "    投注比赛数 = ('EventCode', lambda x: x.nunique()),\n",
    ").reset_index()\n",
    "player_win_info.fillna(0, inplace = True)"
   ]
  },
  {
   "cell_type": "markdown",
   "metadata": {},
   "source": [
    "## Split"
   ]
  },
  {
   "cell_type": "markdown",
   "metadata": {},
   "source": [
    "### 注单量 Q1 ~ Pr 95"
   ]
  },
  {
   "cell_type": "code",
   "execution_count": 8,
   "metadata": {
    "ExecuteTime": {
     "end_time": "2021-04-01T06:31:30.583406Z",
     "start_time": "2021-04-01T06:31:30.550424Z"
    }
   },
   "outputs": [],
   "source": [
    "q1_bet_num = player_win_info.玩家投注单量.quantile(0.25)\n",
    "pr95_bet_num = player_win_info.玩家投注单量.quantile(0.95)\n",
    "player_bet_lower_part_2 = player_win_info.query('@q1_bet_num <= 玩家投注单量 <= @pr95_bet_num').reset_index(drop = True)"
   ]
  },
  {
   "cell_type": "code",
   "execution_count": 9,
   "metadata": {
    "ExecuteTime": {
     "end_time": "2021-04-01T06:31:33.132069Z",
     "start_time": "2021-04-01T06:31:33.093069Z"
    }
   },
   "outputs": [],
   "source": [
    "# rr = 92\n",
    "player_bet_lower_part_2['true_win_rate_92_mean'] = 1 / player_bet_lower_part_2['投注赔率平均'] * 0.92\n",
    "player_bet_lower_part_2['true_win_rate_92_median'] = 1 / player_bet_lower_part_2['投注赔率中位数'] * 0.92\n",
    "# rr = 95\n",
    "player_bet_lower_part_2['true_win_rate_95_mean'] = 1 / player_bet_lower_part_2['投注赔率平均'] * 0.95\n",
    "player_bet_lower_part_2['true_win_rate_95_median'] = 1 / player_bet_lower_part_2['投注赔率中位数'] * 0.95\n",
    "col_names_list = list(player_bet_lower_part_2.filter(like = 'true_win_rate').columns)\n",
    "col_names_list_provided = [_ + '_increment' for _ in col_names_list]\n",
    "increment_df = player_bet_lower_part_2[['玩家季度胜率']].values / player_bet_lower_part_2.filter(like = 'true_win_rate') - 1\n",
    "increment_df.columns = col_names_list_provided\n",
    "player_bet_mid = pd.concat([player_bet_lower_part_2, increment_df], axis = 1)"
   ]
  },
  {
   "cell_type": "markdown",
   "metadata": {},
   "source": [
    "### Second split"
   ]
  },
  {
   "cell_type": "code",
   "execution_count": 10,
   "metadata": {
    "ExecuteTime": {
     "end_time": "2021-04-01T06:31:36.431222Z",
     "start_time": "2021-04-01T06:31:36.412226Z"
    }
   },
   "outputs": [],
   "source": [
    "# Split\n",
    "q2_odd_std = player_bet_mid.投注赔率标准差.quantile(0.5)\n",
    "player_bet_mid_std_high = player_bet_mid.query('@q2_odd_std <= 投注赔率标准差').reset_index(drop = True)\n",
    "player_bet_mid_std_low = player_bet_mid.query('投注赔率标准差 < @q2_odd_std').reset_index(drop = True)"
   ]
  },
  {
   "cell_type": "code",
   "execution_count": 11,
   "metadata": {
    "ExecuteTime": {
     "end_time": "2021-04-01T06:31:37.758109Z",
     "start_time": "2021-04-01T06:31:37.723868Z"
    }
   },
   "outputs": [],
   "source": [
    "## Low variance\n",
    "bet_num_mid_std_low = player_bet_mid_std_low.玩家投注单量.quantile(0.5)\n",
    "game_num_mid_std_low = player_bet_mid_std_low.投注比赛数.quantile(0.5)\n",
    "target_index = player_bet_mid_std_low.true_win_rate_95_mean_increment.quantile(0.95)\n",
    "bet_mid_std_low_df = player_bet_mid_std_low.query('玩家投注单量 > @bet_num_mid_std_low and \\\n",
    "                              投注比赛数 >= @game_num_mid_std_low and \\\n",
    "                              true_win_rate_95_mean_increment >= @target_index')\n",
    "# High variance\n",
    "bet_num_mid_std_high = player_bet_mid_std_high.玩家投注单量.quantile(0.5)\n",
    "game_num_mid_std_high = player_bet_mid_std_high.投注比赛数.quantile(0.5)\n",
    "target_index_high = player_bet_mid_std_high.true_win_rate_95_median_increment.quantile(0.95)\n",
    "bet_mid_std_high_df = player_bet_mid_std_high.query('玩家投注单量 > @bet_num_mid_std_high and \\\n",
    "                              投注比赛数 >= @game_num_mid_std_high and \\\n",
    "                              true_win_rate_95_median_increment >= @target_index')\n",
    "# Final result bet mid\n",
    "bet_mid_account_list = bet_mid_std_high_df.MainAccountSN.to_list() + bet_mid_std_low_df.MainAccountSN.to_list()"
   ]
  },
  {
   "cell_type": "markdown",
   "metadata": {},
   "source": [
    "## 注单量 > PR 95"
   ]
  },
  {
   "cell_type": "code",
   "execution_count": null,
   "metadata": {},
   "outputs": [],
   "source": [
    "pr95_bet_num = player_win_info.玩家投注单量.quantile(0.95)\n",
    "player_bet_lower_part_3 = player_win_info.query('@pr95_bet_num < 玩家投注单量 ').reset_index(drop = True)"
   ]
  },
  {
   "cell_type": "code",
   "execution_count": null,
   "metadata": {},
   "outputs": [],
   "source": [
    "# rr = 93\n",
    "player_bet_lower_part_3['true_win_rate_93_mean'] = 1 / player_bet_lower_part_3['投注赔率平均'] * 0.93\n",
    "player_bet_lower_part_3['true_win_rate_93_median'] = 1 / player_bet_lower_part_3['投注赔率中位数'] * 0.93\n",
    "# rr = 95\n",
    "player_bet_lower_part_3['true_win_rate_95_mean'] = 1 / player_bet_lower_part_3['投注赔率平均'] * 0.95\n",
    "player_bet_lower_part_3['true_win_rate_95_median'] = 1 / player_bet_lower_part_3['投注赔率中位数'] * 0.95\n",
    "col_names_list = list(player_bet_lower_part_3.filter(like = 'true_win_rate').columns)\n",
    "col_names_list_provided = [_ + '_increment' for _ in col_names_list]\n",
    "increment_df = player_bet_lower_part_3[['玩家季度胜率']].values / player_bet_lower_part_3.filter(like = 'true_win_rate') - 1\n",
    "increment_df.columns = col_names_list_provided\n",
    "player_bet_high = pd.concat([player_bet_lower_part_3, increment_df], axis = 1)"
   ]
  },
  {
   "cell_type": "markdown",
   "metadata": {},
   "source": [
    "### Second split"
   ]
  },
  {
   "cell_type": "code",
   "execution_count": null,
   "metadata": {},
   "outputs": [],
   "source": [
    "q2_odd_std = player_bet_high.投注赔率标准差.quantile(0.5)\n",
    "player_bet_high_std_high = player_bet_high.query('@q2_odd_std <= 投注赔率标准差').reset_index(drop = True)\n",
    "player_bet_high_std_low = player_bet_high.query('投注赔率标准差 < @q2_odd_std').reset_index(drop = True)"
   ]
  },
  {
   "cell_type": "code",
   "execution_count": null,
   "metadata": {},
   "outputs": [],
   "source": [
    "# Low variance\n",
    "bet_num_high_std_low = player_bet_high_std_low.玩家投注单量.quantile(0.5)\n",
    "game_num_high_std_low = player_bet_high_std_low.投注比赛数.quantile(0.5)\n",
    "target_index = player_bet_high_std_low.true_win_rate_95_mean_increment.quantile(0.95)\n",
    "bet_high_std_low_df = player_bet_high_std_low.query('玩家投注单量 > @bet_num_high_std_low and \\\n",
    "                              投注比赛数 >= @game_num_high_std_low and \\\n",
    "                              true_win_rate_95_mean_increment >= @target_index')\n",
    "# High variance\n",
    "bet_num_high_std_high = player_bet_high_std_high.玩家投注单量.quantile(0.5)\n",
    "game_num_high_std_high = player_bet_high_std_high.投注比赛数.quantile(0.5)\n",
    "target_index_high = player_bet_high_std_high.true_win_rate_95_median_increment.quantile(0.95)\n",
    "bet_high_std_high_df = player_bet_high_std_high.query('玩家投注单量 > @bet_num_high_std_high and \\\n",
    "                              投注比赛数 >= @game_num_high_std_high and \\\n",
    "                              true_win_rate_95_median_increment >= @target_index')\n",
    "# Final result bet high\n",
    "bet_high_account_list = bet_high_std_low_df.MainAccountSN.to_list() + bet_high_std_high_df.MainAccountSN.to_list()"
   ]
  },
  {
   "cell_type": "markdown",
   "metadata": {},
   "source": [
    "# Wrap-up"
   ]
  },
  {
   "cell_type": "code",
   "execution_count": 18,
   "metadata": {
    "ExecuteTime": {
     "end_time": "2021-04-01T06:51:51.677691Z",
     "start_time": "2021-04-01T06:51:48.218754Z"
    }
   },
   "outputs": [
    {
     "name": "stderr",
     "output_type": "stream",
     "text": [
      "C:\\Users\\markchen\\Anaconda3\\lib\\site-packages\\IPython\\core\\interactiveshell.py:3146: DtypeWarning: Columns (17) have mixed types.Specify dtype option on import or set low_memory=False.\n",
      "  has_raised = await self.run_ast_nodes(code_ast.body, cell_name,\n"
     ]
    }
   ],
   "source": [
    "# Data by season\n",
    "file_loc = 'C:/Users/markchen/Desktop/高胜率玩家分析/data/raw_data/'\n",
    "file_name = '玩家投注资料_2020_Q1.csv'\n",
    "raw_data = pd.read_csv(file_loc + file_name)"
   ]
  },
  {
   "cell_type": "code",
   "execution_count": 19,
   "metadata": {
    "ExecuteTime": {
     "end_time": "2021-04-01T06:51:52.517682Z",
     "start_time": "2021-04-01T06:51:52.361683Z"
    },
    "code_folding": []
   },
   "outputs": [],
   "source": [
    "def get_high_winning_player_AccountId(raw_data):\n",
    "    player_win_info = raw_data.groupby('MainAccountSN').agg(\n",
    "        玩家季度获胜数 = ('BetResult', lambda x: sum(x == 'Won')),\n",
    "        玩家季度胜率 = ('BetResult', lambda x: sum(x == 'Won') / len(x)),\n",
    "        玩家投注单量 = ('TransactionMGUID', 'count'),\n",
    "        # 赔率资讯\n",
    "        投注赔率平均 = ('InitailBetRate', 'mean'),\n",
    "        投注赔率中位数 = ('InitailBetRate', 'median'),\n",
    "        投注赔率标准差 = ('InitailBetRate', 'std'),\n",
    "        # 比赛资讯,\n",
    "        投注比赛数 = ('EventCode', lambda x: x.nunique()),).reset_index()\n",
    "    player_win_info.fillna(0, inplace = True)\n",
    "    ### 注单量 Q1 ~ Pr 95\n",
    "    q1_bet_num = player_win_info.玩家投注单量.quantile(0.25)\n",
    "    pr95_bet_num = player_win_info.玩家投注单量.quantile(0.95)\n",
    "    player_bet_lower_part_2 = player_win_info.query('@q1_bet_num <= 玩家投注单量 <= @pr95_bet_num').reset_index(drop = True)\n",
    "    # rr = 92\n",
    "    player_bet_lower_part_2['true_win_rate_92_mean'] = 1 / player_bet_lower_part_2['投注赔率平均'] * 0.92\n",
    "    player_bet_lower_part_2['true_win_rate_92_median'] = 1 / player_bet_lower_part_2['投注赔率中位数'] * 0.92\n",
    "    # rr = 95\n",
    "    player_bet_lower_part_2['true_win_rate_95_mean'] = 1 / player_bet_lower_part_2['投注赔率平均'] * 0.95\n",
    "    player_bet_lower_part_2['true_win_rate_95_median'] = 1 / player_bet_lower_part_2['投注赔率中位数'] * 0.95\n",
    "    col_names_list = list(player_bet_lower_part_2.filter(like = 'true_win_rate').columns)\n",
    "    col_names_list_provided = [_ + '_increment' for _ in col_names_list]\n",
    "    increment_df = player_bet_lower_part_2[['玩家季度胜率']].values / player_bet_lower_part_2.filter(like = 'true_win_rate') - 1\n",
    "    increment_df.columns = col_names_list_provided\n",
    "    player_bet_mid = pd.concat([player_bet_lower_part_2, increment_df], axis = 1)\n",
    "    ### Second split\n",
    "    # Split\n",
    "    q2_odd_std = player_bet_mid.投注赔率标准差.quantile(0.5)\n",
    "    player_bet_mid_std_high = player_bet_mid.query('@q2_odd_std <= 投注赔率标准差').reset_index(drop = True)\n",
    "    player_bet_mid_std_low = player_bet_mid.query('投注赔率标准差 < @q2_odd_std').reset_index(drop = True)\n",
    "    ## Low variance\n",
    "    bet_num_mid_std_low = player_bet_mid_std_low.玩家投注单量.quantile(0.5)\n",
    "    game_num_mid_std_low = player_bet_mid_std_low.投注比赛数.quantile(0.5)\n",
    "    target_index = player_bet_mid_std_low.true_win_rate_95_mean_increment.quantile(0.95)\n",
    "    bet_mid_std_low_df = player_bet_mid_std_low.query('玩家投注单量 > @bet_num_mid_std_low and \\\n",
    "                                  投注比赛数 >= @game_num_mid_std_low and \\\n",
    "                                  true_win_rate_95_mean_increment >= @target_index')\n",
    "    # High variance\n",
    "    bet_num_mid_std_high = player_bet_mid_std_high.玩家投注单量.quantile(0.5)\n",
    "    game_num_mid_std_high = player_bet_mid_std_high.投注比赛数.quantile(0.5)\n",
    "    target_index_high = player_bet_mid_std_high.true_win_rate_95_median_increment.quantile(0.95)\n",
    "    bet_mid_std_high_df = player_bet_mid_std_high.query('玩家投注单量 > @bet_num_mid_std_high and \\\n",
    "                                  投注比赛数 >= @game_num_mid_std_high and \\\n",
    "                                  true_win_rate_95_median_increment >= @target_index')\n",
    "    # Final result bet mid\n",
    "    bet_mid_account_list = bet_mid_std_high_df.MainAccountSN.to_list() + bet_mid_std_low_df.MainAccountSN.to_list()\n",
    "\n",
    "    ## 注单量 > PR 95\n",
    "    pr95_bet_num = player_win_info.玩家投注单量.quantile(0.95)\n",
    "    player_bet_lower_part_3 = player_win_info.query('@pr95_bet_num < 玩家投注单量 ').reset_index(drop = True)\n",
    "    # rr = 93\n",
    "    player_bet_lower_part_3['true_win_rate_93_mean'] = 1 / player_bet_lower_part_3['投注赔率平均'] * 0.93\n",
    "    player_bet_lower_part_3['true_win_rate_93_median'] = 1 / player_bet_lower_part_3['投注赔率中位数'] * 0.93\n",
    "    # rr = 95\n",
    "    player_bet_lower_part_3['true_win_rate_95_mean'] = 1 / player_bet_lower_part_3['投注赔率平均'] * 0.95\n",
    "    player_bet_lower_part_3['true_win_rate_95_median'] = 1 / player_bet_lower_part_3['投注赔率中位数'] * 0.95\n",
    "    col_names_list = list(player_bet_lower_part_3.filter(like = 'true_win_rate').columns)\n",
    "    col_names_list_provided = [_ + '_increment' for _ in col_names_list]\n",
    "    increment_df = player_bet_lower_part_3[['玩家季度胜率']].values / player_bet_lower_part_3.filter(like = 'true_win_rate') - 1\n",
    "    increment_df.columns = col_names_list_provided\n",
    "    player_bet_high = pd.concat([player_bet_lower_part_3, increment_df], axis = 1)\n",
    "    ### Second split\n",
    "    q2_odd_std = player_bet_high.投注赔率标准差.quantile(0.5)\n",
    "    player_bet_high_std_high = player_bet_high.query('@q2_odd_std <= 投注赔率标准差').reset_index(drop = True)\n",
    "    player_bet_high_std_low = player_bet_high.query('投注赔率标准差 < @q2_odd_std').reset_index(drop = True)\n",
    "    # Low variance\n",
    "    bet_num_high_std_low = player_bet_high_std_low.玩家投注单量.quantile(0.5)\n",
    "    game_num_high_std_low = player_bet_high_std_low.投注比赛数.quantile(0.5)\n",
    "    target_index = player_bet_high_std_low.true_win_rate_95_mean_increment.quantile(0.95)\n",
    "    bet_high_std_low_df = player_bet_high_std_low.query('玩家投注单量 > @bet_num_high_std_low and \\\n",
    "                                  投注比赛数 >= @game_num_high_std_low and \\\n",
    "                                  true_win_rate_95_mean_increment >= @target_index')\n",
    "    # High variance\n",
    "    bet_num_high_std_high = player_bet_high_std_high.玩家投注单量.quantile(0.5)\n",
    "    game_num_high_std_high = player_bet_high_std_high.投注比赛数.quantile(0.5)\n",
    "    target_index_high = player_bet_high_std_high.true_win_rate_95_median_increment.quantile(0.95)\n",
    "    bet_high_std_high_df = player_bet_high_std_high.query('玩家投注单量 > @bet_num_high_std_high and \\\n",
    "                                  投注比赛数 >= @game_num_high_std_high and \\\n",
    "                                  true_win_rate_95_median_increment >= @target_index')\n",
    "    # Final result bet high\n",
    "    bet_high_account_list = bet_high_std_low_df.MainAccountSN.to_list() + bet_high_std_high_df.MainAccountSN.to_list()\n",
    "    Export_list = bet_mid_account_list + bet_high_account_list\n",
    "    return Export_list"
   ]
  },
  {
   "cell_type": "code",
   "execution_count": null,
   "metadata": {},
   "outputs": [],
   "source": [
    "# Iterate"
   ]
  },
  {
   "cell_type": "code",
   "execution_count": 26,
   "metadata": {
    "ExecuteTime": {
     "end_time": "2021-04-01T07:11:35.594234Z",
     "start_time": "2021-04-01T07:11:35.578243Z"
    }
   },
   "outputs": [],
   "source": [
    "file_loc = 'C:/Users/markchen/Desktop/高胜率玩家分析/data/raw_data/'\n",
    "file_list = os.listdir(file_loc)"
   ]
  },
  {
   "cell_type": "code",
   "execution_count": 27,
   "metadata": {
    "ExecuteTime": {
     "end_time": "2021-04-01T07:12:45.045029Z",
     "start_time": "2021-04-01T07:12:28.258666Z"
    }
   },
   "outputs": [
    {
     "name": "stderr",
     "output_type": "stream",
     "text": [
      "C:\\Users\\markchen\\Anaconda3\\lib\\site-packages\\IPython\\core\\interactiveshell.py:3146: DtypeWarning: Columns (17) have mixed types.Specify dtype option on import or set low_memory=False.\n",
      "  has_raised = await self.run_ast_nodes(code_ast.body, cell_name,\n"
     ]
    }
   ],
   "source": [
    "total_account_list = []\n",
    "for file_name in file_list:\n",
    "    raw_data = pd.read_csv(file_loc + file_name)\n",
    "    season_account_list = get_high_winning_player_AccountId(raw_data)\n",
    "    total_account_list.append(season_account_list)"
   ]
  },
  {
   "cell_type": "code",
   "execution_count": 28,
   "metadata": {
    "ExecuteTime": {
     "end_time": "2021-04-01T07:12:50.207810Z",
     "start_time": "2021-04-01T07:12:50.187812Z"
    }
   },
   "outputs": [
    {
     "data": {
      "text/plain": [
       "[[7313932,\n",
       "  8841618,\n",
       "  545065,\n",
       "  6534514,\n",
       "  8491244,\n",
       "  9389921,\n",
       "  9909096,\n",
       "  2331915,\n",
       "  2533693,\n",
       "  5002333,\n",
       "  7094493,\n",
       "  7725224,\n",
       "  2725510,\n",
       "  3102358],\n",
       " [6234475, 6905245, 7109147, 9671655, 10291827, 3429454, 5850443],\n",
       " [10593387, 10768333, 2336759, 2421517, 2434159, 8499126, 9958767, 10704721],\n",
       " [11327292, 11549257, 2159851, 5393346, 6359473, 10705671, 10330122]]"
      ]
     },
     "execution_count": 28,
     "metadata": {},
     "output_type": "execute_result"
    }
   ],
   "source": [
    "total_account_list"
   ]
  },
  {
   "cell_type": "code",
   "execution_count": 62,
   "metadata": {
    "ExecuteTime": {
     "end_time": "2021-04-01T07:42:18.605551Z",
     "start_time": "2021-04-01T07:42:18.587553Z"
    }
   },
   "outputs": [],
   "source": [
    "index_df = pd.DataFrame(total_account_list, index = ['Q1', 'Q2', 'Q3', 'Q4'])"
   ]
  },
  {
   "cell_type": "code",
   "execution_count": 63,
   "metadata": {
    "ExecuteTime": {
     "end_time": "2021-04-01T07:42:22.505932Z",
     "start_time": "2021-04-01T07:42:22.477917Z"
    }
   },
   "outputs": [
    {
     "data": {
      "text/html": [
       "<div>\n",
       "<style scoped>\n",
       "    .dataframe tbody tr th:only-of-type {\n",
       "        vertical-align: middle;\n",
       "    }\n",
       "\n",
       "    .dataframe tbody tr th {\n",
       "        vertical-align: top;\n",
       "    }\n",
       "\n",
       "    .dataframe thead th {\n",
       "        text-align: right;\n",
       "    }\n",
       "</style>\n",
       "<table border=\"1\" class=\"dataframe\">\n",
       "  <thead>\n",
       "    <tr style=\"text-align: right;\">\n",
       "      <th></th>\n",
       "      <th>0</th>\n",
       "      <th>1</th>\n",
       "      <th>2</th>\n",
       "      <th>3</th>\n",
       "      <th>4</th>\n",
       "      <th>5</th>\n",
       "      <th>6</th>\n",
       "      <th>7</th>\n",
       "      <th>8</th>\n",
       "      <th>9</th>\n",
       "      <th>10</th>\n",
       "      <th>11</th>\n",
       "      <th>12</th>\n",
       "      <th>13</th>\n",
       "    </tr>\n",
       "  </thead>\n",
       "  <tbody>\n",
       "    <tr>\n",
       "      <th>Q1</th>\n",
       "      <td>7313932</td>\n",
       "      <td>8841618</td>\n",
       "      <td>545065</td>\n",
       "      <td>6534514</td>\n",
       "      <td>8491244</td>\n",
       "      <td>9389921</td>\n",
       "      <td>9909096</td>\n",
       "      <td>2331915.0</td>\n",
       "      <td>2533693.0</td>\n",
       "      <td>5002333.0</td>\n",
       "      <td>7094493.0</td>\n",
       "      <td>7725224.0</td>\n",
       "      <td>2725510.0</td>\n",
       "      <td>3102358.0</td>\n",
       "    </tr>\n",
       "    <tr>\n",
       "      <th>Q2</th>\n",
       "      <td>6234475</td>\n",
       "      <td>6905245</td>\n",
       "      <td>7109147</td>\n",
       "      <td>9671655</td>\n",
       "      <td>10291827</td>\n",
       "      <td>3429454</td>\n",
       "      <td>5850443</td>\n",
       "      <td>NaN</td>\n",
       "      <td>NaN</td>\n",
       "      <td>NaN</td>\n",
       "      <td>NaN</td>\n",
       "      <td>NaN</td>\n",
       "      <td>NaN</td>\n",
       "      <td>NaN</td>\n",
       "    </tr>\n",
       "    <tr>\n",
       "      <th>Q3</th>\n",
       "      <td>10593387</td>\n",
       "      <td>10768333</td>\n",
       "      <td>2336759</td>\n",
       "      <td>2421517</td>\n",
       "      <td>2434159</td>\n",
       "      <td>8499126</td>\n",
       "      <td>9958767</td>\n",
       "      <td>10704721.0</td>\n",
       "      <td>NaN</td>\n",
       "      <td>NaN</td>\n",
       "      <td>NaN</td>\n",
       "      <td>NaN</td>\n",
       "      <td>NaN</td>\n",
       "      <td>NaN</td>\n",
       "    </tr>\n",
       "    <tr>\n",
       "      <th>Q4</th>\n",
       "      <td>11327292</td>\n",
       "      <td>11549257</td>\n",
       "      <td>2159851</td>\n",
       "      <td>5393346</td>\n",
       "      <td>6359473</td>\n",
       "      <td>10705671</td>\n",
       "      <td>10330122</td>\n",
       "      <td>NaN</td>\n",
       "      <td>NaN</td>\n",
       "      <td>NaN</td>\n",
       "      <td>NaN</td>\n",
       "      <td>NaN</td>\n",
       "      <td>NaN</td>\n",
       "      <td>NaN</td>\n",
       "    </tr>\n",
       "  </tbody>\n",
       "</table>\n",
       "</div>"
      ],
      "text/plain": [
       "          0         1        2        3         4         5         6   \\\n",
       "Q1   7313932   8841618   545065  6534514   8491244   9389921   9909096   \n",
       "Q2   6234475   6905245  7109147  9671655  10291827   3429454   5850443   \n",
       "Q3  10593387  10768333  2336759  2421517   2434159   8499126   9958767   \n",
       "Q4  11327292  11549257  2159851  5393346   6359473  10705671  10330122   \n",
       "\n",
       "            7          8          9          10         11         12  \\\n",
       "Q1   2331915.0  2533693.0  5002333.0  7094493.0  7725224.0  2725510.0   \n",
       "Q2         NaN        NaN        NaN        NaN        NaN        NaN   \n",
       "Q3  10704721.0        NaN        NaN        NaN        NaN        NaN   \n",
       "Q4         NaN        NaN        NaN        NaN        NaN        NaN   \n",
       "\n",
       "           13  \n",
       "Q1  3102358.0  \n",
       "Q2        NaN  \n",
       "Q3        NaN  \n",
       "Q4        NaN  "
      ]
     },
     "execution_count": 63,
     "metadata": {},
     "output_type": "execute_result"
    }
   ],
   "source": [
    "index_df"
   ]
  },
  {
   "cell_type": "code",
   "execution_count": 30,
   "metadata": {
    "ExecuteTime": {
     "end_time": "2021-04-01T07:13:52.351307Z",
     "start_time": "2021-04-01T07:13:52.337307Z"
    }
   },
   "outputs": [],
   "source": [
    "flatten_total_account_list = sum(total_account_list, [])"
   ]
  },
  {
   "cell_type": "code",
   "execution_count": 32,
   "metadata": {
    "ExecuteTime": {
     "end_time": "2021-04-01T07:14:07.495386Z",
     "start_time": "2021-04-01T07:14:07.477379Z"
    }
   },
   "outputs": [
    {
     "data": {
      "text/plain": [
       "36"
      ]
     },
     "execution_count": 32,
     "metadata": {},
     "output_type": "execute_result"
    }
   ],
   "source": [
    "len(flatten_total_account_list)"
   ]
  },
  {
   "cell_type": "code",
   "execution_count": 31,
   "metadata": {
    "ExecuteTime": {
     "end_time": "2021-04-01T07:14:02.774688Z",
     "start_time": "2021-04-01T07:14:02.764669Z"
    }
   },
   "outputs": [
    {
     "data": {
      "text/plain": [
       "36"
      ]
     },
     "execution_count": 31,
     "metadata": {},
     "output_type": "execute_result"
    }
   ],
   "source": [
    "len(set(flatten_total_account_list))"
   ]
  },
  {
   "cell_type": "markdown",
   "metadata": {},
   "source": [
    "# Players' seasonal performance "
   ]
  },
  {
   "cell_type": "code",
   "execution_count": 38,
   "metadata": {
    "ExecuteTime": {
     "end_time": "2021-04-01T07:23:15.998048Z",
     "start_time": "2021-04-01T07:23:06.153096Z"
    }
   },
   "outputs": [
    {
     "name": "stderr",
     "output_type": "stream",
     "text": [
      "C:\\Users\\markchen\\Anaconda3\\lib\\site-packages\\IPython\\core\\interactiveshell.py:3146: DtypeWarning: Columns (17) have mixed types.Specify dtype option on import or set low_memory=False.\n",
      "  has_raised = await self.run_ast_nodes(code_ast.body, cell_name,\n"
     ]
    }
   ],
   "source": [
    "file_loc = 'C:/Users/markchen/Desktop/高胜率玩家分析/data/raw_data/'\n",
    "file_name = '玩家投注资料_2020_year.csv'\n",
    "bet_total_df = pd.read_csv(file_loc + file_name, parse_dates=['BetDatetime'])"
   ]
  },
  {
   "cell_type": "code",
   "execution_count": 53,
   "metadata": {
    "ExecuteTime": {
     "end_time": "2021-04-01T07:28:20.108766Z",
     "start_time": "2021-04-01T07:28:19.928767Z"
    }
   },
   "outputs": [],
   "source": [
    "target_df = bet_total_df.query('MainAccountSN in @flatten_total_account_list').reset_index(drop = True)"
   ]
  },
  {
   "cell_type": "code",
   "execution_count": 54,
   "metadata": {
    "ExecuteTime": {
     "end_time": "2021-04-01T07:28:22.208997Z",
     "start_time": "2021-04-01T07:28:22.194983Z"
    }
   },
   "outputs": [],
   "source": [
    "target_df['Quarter_time'] = target_df.BetDatetime.dt.to_period(\"Q\")"
   ]
  },
  {
   "cell_type": "code",
   "execution_count": 64,
   "metadata": {
    "ExecuteTime": {
     "end_time": "2021-04-01T07:44:48.618603Z",
     "start_time": "2021-04-01T07:44:48.583589Z"
    }
   },
   "outputs": [],
   "source": [
    "target_df_groupby = target_df.groupby(['MainAccountSN', 'Quarter_time']).agg(\n",
    "    玩家总投注额 = ('RealBetAmount_CNY', 'sum'),\n",
    "    玩家总损益 = ('CustomerWinLoss_CNY', 'sum'),\n",
    "    玩家投注单量 = ('TransactionMGUID', 'count'),\n",
    "    玩家季度胜率 = ('BetResult', lambda x: sum(x == 'Won') / len(x)),\n",
    "    # 赔率资讯\n",
    "    投注赔率平均 = ('InitailBetRate', 'mean'),\n",
    "    投注赔率中位数 = ('InitailBetRate', 'median'),\n",
    "    投注赔率标准差 = ('InitailBetRate', 'std'),\n",
    ").reset_index()"
   ]
  },
  {
   "cell_type": "code",
   "execution_count": 65,
   "metadata": {
    "ExecuteTime": {
     "end_time": "2021-04-01T07:46:08.268444Z",
     "start_time": "2021-04-01T07:46:08.254431Z"
    }
   },
   "outputs": [],
   "source": [
    "# rr = 95\n",
    "target_df_groupby['true_win_rate_95_mean'] = 1 / target_df_groupby['投注赔率平均'] * 0.95\n",
    "target_df_groupby['true_win_rate_95_median'] = 1 / target_df_groupby['投注赔率中位数'] * 0.95"
   ]
  },
  {
   "cell_type": "code",
   "execution_count": 66,
   "metadata": {
    "ExecuteTime": {
     "end_time": "2021-04-01T07:46:22.259041Z",
     "start_time": "2021-04-01T07:46:22.241029Z"
    }
   },
   "outputs": [],
   "source": [
    "col_names_list = list(target_df_groupby.filter(like = 'true_win_rate').columns)\n",
    "col_names_list_provided = [_ + '_increment' for _ in col_names_list]\n",
    "increment_df = target_df_groupby[['玩家季度胜率']].values / target_df_groupby.filter(like = 'true_win_rate') - 1\n",
    "increment_df.columns = col_names_list_provided"
   ]
  },
  {
   "cell_type": "code",
   "execution_count": 67,
   "metadata": {
    "ExecuteTime": {
     "end_time": "2021-04-01T07:46:34.231098Z",
     "start_time": "2021-04-01T07:46:34.212120Z"
    }
   },
   "outputs": [],
   "source": [
    "target_df_final = pd.concat([target_df_groupby, increment_df], axis = 1)"
   ]
  },
  {
   "cell_type": "code",
   "execution_count": 68,
   "metadata": {
    "ExecuteTime": {
     "end_time": "2021-04-01T07:46:40.400576Z",
     "start_time": "2021-04-01T07:46:40.368584Z"
    }
   },
   "outputs": [
    {
     "data": {
      "text/html": [
       "<div>\n",
       "<style scoped>\n",
       "    .dataframe tbody tr th:only-of-type {\n",
       "        vertical-align: middle;\n",
       "    }\n",
       "\n",
       "    .dataframe tbody tr th {\n",
       "        vertical-align: top;\n",
       "    }\n",
       "\n",
       "    .dataframe thead th {\n",
       "        text-align: right;\n",
       "    }\n",
       "</style>\n",
       "<table border=\"1\" class=\"dataframe\">\n",
       "  <thead>\n",
       "    <tr style=\"text-align: right;\">\n",
       "      <th></th>\n",
       "      <th>MainAccountSN</th>\n",
       "      <th>Quarter_time</th>\n",
       "      <th>玩家总投注额</th>\n",
       "      <th>玩家总损益</th>\n",
       "      <th>玩家投注单量</th>\n",
       "      <th>玩家季度胜率</th>\n",
       "      <th>投注赔率平均</th>\n",
       "      <th>投注赔率中位数</th>\n",
       "      <th>投注赔率标准差</th>\n",
       "      <th>true_win_rate_95_mean</th>\n",
       "      <th>true_win_rate_95_median</th>\n",
       "      <th>true_win_rate_95_mean_increment</th>\n",
       "      <th>true_win_rate_95_median_increment</th>\n",
       "    </tr>\n",
       "  </thead>\n",
       "  <tbody>\n",
       "    <tr>\n",
       "      <th>0</th>\n",
       "      <td>545065</td>\n",
       "      <td>2020Q1</td>\n",
       "      <td>17340.0</td>\n",
       "      <td>18099.00</td>\n",
       "      <td>44</td>\n",
       "      <td>0.772727</td>\n",
       "      <td>2.683182</td>\n",
       "      <td>2.75</td>\n",
       "      <td>0.540967</td>\n",
       "      <td>0.354057</td>\n",
       "      <td>0.345455</td>\n",
       "      <td>1.182492</td>\n",
       "      <td>1.236842</td>\n",
       "    </tr>\n",
       "    <tr>\n",
       "      <th>1</th>\n",
       "      <td>2159851</td>\n",
       "      <td>2020Q1</td>\n",
       "      <td>6889.0</td>\n",
       "      <td>-189.00</td>\n",
       "      <td>5</td>\n",
       "      <td>0.600000</td>\n",
       "      <td>2.074000</td>\n",
       "      <td>1.93</td>\n",
       "      <td>0.379776</td>\n",
       "      <td>0.458052</td>\n",
       "      <td>0.492228</td>\n",
       "      <td>0.309895</td>\n",
       "      <td>0.218947</td>\n",
       "    </tr>\n",
       "    <tr>\n",
       "      <th>2</th>\n",
       "      <td>2159851</td>\n",
       "      <td>2020Q2</td>\n",
       "      <td>104157.0</td>\n",
       "      <td>-70916.75</td>\n",
       "      <td>57</td>\n",
       "      <td>0.210526</td>\n",
       "      <td>2.130877</td>\n",
       "      <td>1.90</td>\n",
       "      <td>0.570273</td>\n",
       "      <td>0.445826</td>\n",
       "      <td>0.500000</td>\n",
       "      <td>-0.527783</td>\n",
       "      <td>-0.578947</td>\n",
       "    </tr>\n",
       "    <tr>\n",
       "      <th>3</th>\n",
       "      <td>2159851</td>\n",
       "      <td>2020Q3</td>\n",
       "      <td>1550.0</td>\n",
       "      <td>-1198.00</td>\n",
       "      <td>4</td>\n",
       "      <td>0.250000</td>\n",
       "      <td>1.612500</td>\n",
       "      <td>1.58</td>\n",
       "      <td>0.195512</td>\n",
       "      <td>0.589147</td>\n",
       "      <td>0.601266</td>\n",
       "      <td>-0.575658</td>\n",
       "      <td>-0.584211</td>\n",
       "    </tr>\n",
       "    <tr>\n",
       "      <th>4</th>\n",
       "      <td>2159851</td>\n",
       "      <td>2020Q4</td>\n",
       "      <td>44406.0</td>\n",
       "      <td>33148.17</td>\n",
       "      <td>32</td>\n",
       "      <td>0.937500</td>\n",
       "      <td>2.014063</td>\n",
       "      <td>1.93</td>\n",
       "      <td>0.424255</td>\n",
       "      <td>0.471683</td>\n",
       "      <td>0.492228</td>\n",
       "      <td>0.987562</td>\n",
       "      <td>0.904605</td>\n",
       "    </tr>\n",
       "    <tr>\n",
       "      <th>...</th>\n",
       "      <td>...</td>\n",
       "      <td>...</td>\n",
       "      <td>...</td>\n",
       "      <td>...</td>\n",
       "      <td>...</td>\n",
       "      <td>...</td>\n",
       "      <td>...</td>\n",
       "      <td>...</td>\n",
       "      <td>...</td>\n",
       "      <td>...</td>\n",
       "      <td>...</td>\n",
       "      <td>...</td>\n",
       "      <td>...</td>\n",
       "    </tr>\n",
       "    <tr>\n",
       "      <th>88</th>\n",
       "      <td>10705671</td>\n",
       "      <td>2020Q4</td>\n",
       "      <td>321120.0</td>\n",
       "      <td>252468.00</td>\n",
       "      <td>20</td>\n",
       "      <td>0.950000</td>\n",
       "      <td>1.803500</td>\n",
       "      <td>1.58</td>\n",
       "      <td>0.510617</td>\n",
       "      <td>0.526754</td>\n",
       "      <td>0.601266</td>\n",
       "      <td>0.803500</td>\n",
       "      <td>0.580000</td>\n",
       "    </tr>\n",
       "    <tr>\n",
       "      <th>89</th>\n",
       "      <td>10768333</td>\n",
       "      <td>2020Q3</td>\n",
       "      <td>32432.0</td>\n",
       "      <td>23647.00</td>\n",
       "      <td>47</td>\n",
       "      <td>0.489362</td>\n",
       "      <td>4.045106</td>\n",
       "      <td>4.45</td>\n",
       "      <td>1.691358</td>\n",
       "      <td>0.234852</td>\n",
       "      <td>0.213483</td>\n",
       "      <td>1.083705</td>\n",
       "      <td>1.292273</td>\n",
       "    </tr>\n",
       "    <tr>\n",
       "      <th>90</th>\n",
       "      <td>10768333</td>\n",
       "      <td>2020Q4</td>\n",
       "      <td>30824.0</td>\n",
       "      <td>-8259.76</td>\n",
       "      <td>83</td>\n",
       "      <td>0.325301</td>\n",
       "      <td>3.147229</td>\n",
       "      <td>2.75</td>\n",
       "      <td>1.781319</td>\n",
       "      <td>0.301853</td>\n",
       "      <td>0.345455</td>\n",
       "      <td>0.077681</td>\n",
       "      <td>-0.058339</td>\n",
       "    </tr>\n",
       "    <tr>\n",
       "      <th>91</th>\n",
       "      <td>11327292</td>\n",
       "      <td>2020Q4</td>\n",
       "      <td>11652.0</td>\n",
       "      <td>10052.50</td>\n",
       "      <td>51</td>\n",
       "      <td>0.705882</td>\n",
       "      <td>3.092157</td>\n",
       "      <td>2.44</td>\n",
       "      <td>1.744240</td>\n",
       "      <td>0.307229</td>\n",
       "      <td>0.389344</td>\n",
       "      <td>1.297578</td>\n",
       "      <td>0.813003</td>\n",
       "    </tr>\n",
       "    <tr>\n",
       "      <th>92</th>\n",
       "      <td>11549257</td>\n",
       "      <td>2020Q4</td>\n",
       "      <td>11207.0</td>\n",
       "      <td>6296.26</td>\n",
       "      <td>27</td>\n",
       "      <td>0.703704</td>\n",
       "      <td>2.781111</td>\n",
       "      <td>2.56</td>\n",
       "      <td>1.255585</td>\n",
       "      <td>0.341590</td>\n",
       "      <td>0.371094</td>\n",
       "      <td>1.060082</td>\n",
       "      <td>0.896296</td>\n",
       "    </tr>\n",
       "  </tbody>\n",
       "</table>\n",
       "<p>93 rows × 13 columns</p>\n",
       "</div>"
      ],
      "text/plain": [
       "    MainAccountSN Quarter_time    玩家总投注额      玩家总损益  玩家投注单量    玩家季度胜率  \\\n",
       "0          545065       2020Q1   17340.0   18099.00      44  0.772727   \n",
       "1         2159851       2020Q1    6889.0    -189.00       5  0.600000   \n",
       "2         2159851       2020Q2  104157.0  -70916.75      57  0.210526   \n",
       "3         2159851       2020Q3    1550.0   -1198.00       4  0.250000   \n",
       "4         2159851       2020Q4   44406.0   33148.17      32  0.937500   \n",
       "..            ...          ...       ...        ...     ...       ...   \n",
       "88       10705671       2020Q4  321120.0  252468.00      20  0.950000   \n",
       "89       10768333       2020Q3   32432.0   23647.00      47  0.489362   \n",
       "90       10768333       2020Q4   30824.0   -8259.76      83  0.325301   \n",
       "91       11327292       2020Q4   11652.0   10052.50      51  0.705882   \n",
       "92       11549257       2020Q4   11207.0    6296.26      27  0.703704   \n",
       "\n",
       "      投注赔率平均  投注赔率中位数   投注赔率标准差  true_win_rate_95_mean  \\\n",
       "0   2.683182     2.75  0.540967               0.354057   \n",
       "1   2.074000     1.93  0.379776               0.458052   \n",
       "2   2.130877     1.90  0.570273               0.445826   \n",
       "3   1.612500     1.58  0.195512               0.589147   \n",
       "4   2.014063     1.93  0.424255               0.471683   \n",
       "..       ...      ...       ...                    ...   \n",
       "88  1.803500     1.58  0.510617               0.526754   \n",
       "89  4.045106     4.45  1.691358               0.234852   \n",
       "90  3.147229     2.75  1.781319               0.301853   \n",
       "91  3.092157     2.44  1.744240               0.307229   \n",
       "92  2.781111     2.56  1.255585               0.341590   \n",
       "\n",
       "    true_win_rate_95_median  true_win_rate_95_mean_increment  \\\n",
       "0                  0.345455                         1.182492   \n",
       "1                  0.492228                         0.309895   \n",
       "2                  0.500000                        -0.527783   \n",
       "3                  0.601266                        -0.575658   \n",
       "4                  0.492228                         0.987562   \n",
       "..                      ...                              ...   \n",
       "88                 0.601266                         0.803500   \n",
       "89                 0.213483                         1.083705   \n",
       "90                 0.345455                         0.077681   \n",
       "91                 0.389344                         1.297578   \n",
       "92                 0.371094                         1.060082   \n",
       "\n",
       "    true_win_rate_95_median_increment  \n",
       "0                            1.236842  \n",
       "1                            0.218947  \n",
       "2                           -0.578947  \n",
       "3                           -0.584211  \n",
       "4                            0.904605  \n",
       "..                                ...  \n",
       "88                           0.580000  \n",
       "89                           1.292273  \n",
       "90                          -0.058339  \n",
       "91                           0.813003  \n",
       "92                           0.896296  \n",
       "\n",
       "[93 rows x 13 columns]"
      ]
     },
     "execution_count": 68,
     "metadata": {},
     "output_type": "execute_result"
    }
   ],
   "source": [
    "target_df_final"
   ]
  },
  {
   "cell_type": "code",
   "execution_count": 69,
   "metadata": {
    "ExecuteTime": {
     "end_time": "2021-04-01T07:47:10.062760Z",
     "start_time": "2021-04-01T07:47:10.048762Z"
    }
   },
   "outputs": [],
   "source": [
    "target_df_final.to_csv('筛选结果含赔率.csv', index = False, encoding = 'utf-8-sig')"
   ]
  },
  {
   "cell_type": "code",
   "execution_count": 61,
   "metadata": {
    "ExecuteTime": {
     "end_time": "2021-04-01T07:32:41.340610Z",
     "start_time": "2021-04-01T07:32:41.308596Z"
    }
   },
   "outputs": [],
   "source": [
    "target_df_groupby.to_csv('筛选结果.csv', index = False, encoding = 'utf-8-sig')"
   ]
  }
 ],
 "metadata": {
  "kernelspec": {
   "display_name": "Python 3",
   "language": "python",
   "name": "python3"
  },
  "language_info": {
   "codemirror_mode": {
    "name": "ipython",
    "version": 3
   },
   "file_extension": ".py",
   "mimetype": "text/x-python",
   "name": "python",
   "nbconvert_exporter": "python",
   "pygments_lexer": "ipython3",
   "version": "3.8.5"
  },
  "toc": {
   "base_numbering": 1,
   "nav_menu": {},
   "number_sections": true,
   "sideBar": true,
   "skip_h1_title": false,
   "title_cell": "Table of Contents",
   "title_sidebar": "Contents",
   "toc_cell": false,
   "toc_position": {},
   "toc_section_display": true,
   "toc_window_display": false
  },
  "varInspector": {
   "cols": {
    "lenName": 16,
    "lenType": 16,
    "lenVar": 40
   },
   "kernels_config": {
    "python": {
     "delete_cmd_postfix": "",
     "delete_cmd_prefix": "del ",
     "library": "var_list.py",
     "varRefreshCmd": "print(var_dic_list())"
    },
    "r": {
     "delete_cmd_postfix": ") ",
     "delete_cmd_prefix": "rm(",
     "library": "var_list.r",
     "varRefreshCmd": "cat(var_dic_list()) "
    }
   },
   "types_to_exclude": [
    "module",
    "function",
    "builtin_function_or_method",
    "instance",
    "_Feature"
   ],
   "window_display": false
  }
 },
 "nbformat": 4,
 "nbformat_minor": 4
}
