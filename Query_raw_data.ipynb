{
 "cells": [
  {
   "cell_type": "code",
   "execution_count": 1,
   "metadata": {
    "ExecuteTime": {
     "end_time": "2021-03-29T02:25:30.470471Z",
     "start_time": "2021-03-29T02:25:28.948018Z"
    }
   },
   "outputs": [],
   "source": [
    "import numpy as np\n",
    "import pandas as pd\n",
    "import pyodbc"
   ]
  },
  {
   "cell_type": "markdown",
   "metadata": {},
   "source": [
    "# Database Argument"
   ]
  },
  {
   "cell_type": "code",
   "execution_count": 2,
   "metadata": {
    "ExecuteTime": {
     "end_time": "2021-03-29T02:25:32.550406Z",
     "start_time": "2021-03-29T02:25:32.457546Z"
    }
   },
   "outputs": [],
   "source": [
    "conn = pyodbc.connect('Driver={SQL Server};'\n",
    "                      'Server=172.22.7.75;'\n",
    "                      'Database=Statistics;'\n",
    "                      'UID=MarkChen;'\n",
    "                      'PWD=6C00BC972CE0')"
   ]
  },
  {
   "cell_type": "code",
   "execution_count": 3,
   "metadata": {
    "ExecuteTime": {
     "end_time": "2021-03-29T02:25:33.002130Z",
     "start_time": "2021-03-29T02:25:32.992123Z"
    }
   },
   "outputs": [],
   "source": [
    "def create_quarter_time(year, season):\n",
    "    season_list = ['Q{}'.format(index) for index in range(1, 5)]\n",
    "    try:\n",
    "        date_list = ['12/31', '3/31', '6/30', '9/30', '12/31']\n",
    "        index = int(season[-1])\n",
    "        start_date = str(year) + '/' + date_list[index - 1]\n",
    "        end_date = str(year) + '/'+ date_list[index]\n",
    "        return start_date, end_date\n",
    "    except :\n",
    "        print('Season input is invalid')\n",
    "        "
   ]
  },
  {
   "cell_type": "code",
   "execution_count": 4,
   "metadata": {
    "ExecuteTime": {
     "end_time": "2021-03-29T02:25:33.530868Z",
     "start_time": "2021-03-29T02:25:33.525868Z"
    }
   },
   "outputs": [],
   "source": [
    "start_date, end_date = create_quarter_time(2020, 'q4')\n",
    "query = '''select * FROM dbo.GM613\n",
    "           where (BetDatetime > {} AND BetDatetime <= {})'''.format(start_date, end_date)"
   ]
  },
  {
   "cell_type": "code",
   "execution_count": 94,
   "metadata": {
    "ExecuteTime": {
     "end_time": "2021-03-29T02:23:04.172592Z",
     "start_time": "2021-03-29T02:23:04.157575Z"
    }
   },
   "outputs": [],
   "source": [
    "start_date, end_date = create_quarter_time(2020, 'q4')\n",
    "query = '''select * FROM dbo.GM613\n",
    "           where BetDatetime > {} '''.format(start_date)"
   ]
  },
  {
   "cell_type": "code",
   "execution_count": 87,
   "metadata": {
    "ExecuteTime": {
     "end_time": "2021-03-29T02:22:13.397602Z",
     "start_time": "2021-03-29T02:22:13.380591Z"
    }
   },
   "outputs": [],
   "source": [
    "query = '''select Top 30 * FROM dbo.GM613\n",
    "           where DeviceType == {}'''.format('Desktop')"
   ]
  },
  {
   "cell_type": "markdown",
   "metadata": {},
   "source": [
    "# Query"
   ]
  },
  {
   "cell_type": "code",
   "execution_count": 5,
   "metadata": {
    "ExecuteTime": {
     "end_time": "2021-03-29T02:25:37.120869Z",
     "start_time": "2021-03-29T02:25:36.642692Z"
    }
   },
   "outputs": [],
   "source": [
    "with conn.cursor() as cursor:\n",
    "    SQL_Query = pd.read_sql(query, conn)\n",
    "    bet_data_sql = pd.DataFrame(SQL_Query)"
   ]
  },
  {
   "cell_type": "code",
   "execution_count": 6,
   "metadata": {
    "ExecuteTime": {
     "end_time": "2021-03-29T02:25:38.368973Z",
     "start_time": "2021-03-29T02:25:38.339912Z"
    }
   },
   "outputs": [
    {
     "name": "stdout",
     "output_type": "stream",
     "text": [
      "<class 'pandas.core.frame.DataFrame'>\n",
      "Index: 0 entries\n",
      "Data columns (total 26 columns):\n",
      " #   Column                      Non-Null Count  Dtype \n",
      "---  ------                      --------------  ----- \n",
      " 0   ThirdPartyCode              0 non-null      object\n",
      " 1   ThirdPartyName              0 non-null      object\n",
      " 2   DeviceType                  0 non-null      object\n",
      " 3   GameDate                    0 non-null      object\n",
      " 4   TournamentName_En           0 non-null      object\n",
      " 5   BetDatetime                 0 non-null      object\n",
      " 6   TransactionMCreateDatetime  0 non-null      object\n",
      " 7   HomeTeam                    0 non-null      object\n",
      " 8   AwayTeam                    0 non-null      object\n",
      " 9   GroupOptionCode             0 non-null      object\n",
      " 10  GroupOptionName             0 non-null      object\n",
      " 11  OptionCode                  0 non-null      object\n",
      " 12  EventCode                   0 non-null      object\n",
      " 13  TransactionMGUID            0 non-null      object\n",
      " 14  BetType                     0 non-null      object\n",
      " 15  MainAccountSN               0 non-null      object\n",
      " 16  Ticket_Content              0 non-null      object\n",
      " 17  SpecialBetValue             0 non-null      object\n",
      " 18  InitailBetRate              0 non-null      object\n",
      " 19  RealBetRate                 0 non-null      object\n",
      " 20  RealBetAmount               0 non-null      object\n",
      " 21  CustomerWinLoss             0 non-null      object\n",
      " 22  CurrencyCode                0 non-null      object\n",
      " 23  RealBetAmount_CNY           0 non-null      object\n",
      " 24  CustomerWinLoss_CNY         0 non-null      object\n",
      " 25  BetResult                   0 non-null      object\n",
      "dtypes: object(26)\n",
      "memory usage: 0.0+ bytes\n"
     ]
    }
   ],
   "source": [
    "bet_data_sql.info()"
   ]
  },
  {
   "cell_type": "markdown",
   "metadata": {},
   "source": [
    "# Add new change"
   ]
  }
 ],
 "metadata": {
  "kernelspec": {
   "display_name": "Python 3",
   "language": "python",
   "name": "python3"
  },
  "language_info": {
   "codemirror_mode": {
    "name": "ipython",
    "version": 3
   },
   "file_extension": ".py",
   "mimetype": "text/x-python",
   "name": "python",
   "nbconvert_exporter": "python",
   "pygments_lexer": "ipython3",
   "version": "3.8.3"
  },
  "toc": {
   "base_numbering": 1,
   "nav_menu": {},
   "number_sections": true,
   "sideBar": true,
   "skip_h1_title": false,
   "title_cell": "Table of Contents",
   "title_sidebar": "Contents",
   "toc_cell": false,
   "toc_position": {},
   "toc_section_display": true,
   "toc_window_display": false
  },
  "varInspector": {
   "cols": {
    "lenName": 16,
    "lenType": 16,
    "lenVar": 40
   },
   "kernels_config": {
    "python": {
     "delete_cmd_postfix": "",
     "delete_cmd_prefix": "del ",
     "library": "var_list.py",
     "varRefreshCmd": "print(var_dic_list())"
    },
    "r": {
     "delete_cmd_postfix": ") ",
     "delete_cmd_prefix": "rm(",
     "library": "var_list.r",
     "varRefreshCmd": "cat(var_dic_list()) "
    }
   },
   "types_to_exclude": [
    "module",
    "function",
    "builtin_function_or_method",
    "instance",
    "_Feature"
   ],
   "window_display": false
  }
 },
 "nbformat": 4,
 "nbformat_minor": 4
}
